{
 "cells": [
  {
   "cell_type": "markdown",
   "metadata": {
    "application/vnd.databricks.v1+cell": {
     "cellMetadata": {},
     "inputWidgets": {},
     "nuid": "7095aa56-f5ff-4405-949a-e7bf57d1c9dc",
     "showTitle": false,
     "title": ""
    }
   },
   "source": [
    "The purpose of this notebook is to evaluate the model to be used by the QA Bot accelerator.  This notebook is available at https://github.com/databricks-industry-solutions/diy-llm-qa-bot."
   ]
  },
  {
   "cell_type": "markdown",
   "metadata": {
    "application/vnd.databricks.v1+cell": {
     "cellMetadata": {},
     "inputWidgets": {},
     "nuid": "4b2a63ff-1132-4406-ae43-91c8b4fe0e92",
     "showTitle": false,
     "title": ""
    }
   },
   "source": [
    "## Evaluating QA model performance\n",
    "In this notebook, we showcase how to evaluate QA performance using langchain's `QAEvalChain` using a evaluation set containing correct references and responses. We use an LLM as a grader to compare model responses with the correct responses."
   ]
  },
  {
   "cell_type": "code",
   "execution_count": 0,
   "metadata": {
    "application/vnd.databricks.v1+cell": {
     "cellMetadata": {
      "byteLimit": 2048000,
      "rowLimit": 10000
     },
     "inputWidgets": {},
     "nuid": "766f652f-1556-43ad-ab15-bcab6049fa26",
     "showTitle": false,
     "title": ""
    }
   },
   "outputs": [],
   "source": [
    "%run \"./utils/config_utils\""
   ]
  },
  {
   "cell_type": "markdown",
   "metadata": {
    "application/vnd.databricks.v1+cell": {
     "cellMetadata": {},
     "inputWidgets": {},
     "nuid": "b8bba737-5553-4560-b2ea-b27c25e6d6f9",
     "showTitle": false,
     "title": ""
    }
   },
   "source": [
    "## Scoring the evaluation set\n",
    "\n",
    "We first retrieve and install the Python dependencies from the logged model in order to score the model. \n",
    "\n",
    "mlflow writes a file with model dependencies at `requirements_path` in DBFS. We then use %pip to install the dependencies in the file."
   ]
  },
  {
   "cell_type": "code",
   "execution_count": 0,
   "metadata": {
    "application/vnd.databricks.v1+cell": {
     "cellMetadata": {
      "byteLimit": 2048000,
      "rowLimit": 10000
     },
     "inputWidgets": {},
     "nuid": "40f20a08-cad8-40ad-b484-dee7105431d2",
     "showTitle": false,
     "title": ""
    }
   },
   "outputs": [
    {
     "output_type": "stream",
     "name": "stderr",
     "output_type": "stream",
     "text": [
      "2023/08/11 01:29:46 INFO mlflow.pyfunc: To install the dependencies that were used to train the model, run the following command: '%pip install -r /tmp/tmp4h_4m90f/requirements.txt'.\n"
     ]
    },
    {
     "output_type": "stream",
     "name": "stdout",
     "output_type": "stream",
     "text": [
      "Python interpreter will be restarted.\nCollecting mlflow<3,>=2.1\n  Downloading mlflow-2.5.0-py3-none-any.whl (18.2 MB)\nRequirement already satisfied: cloudpickle==2.0.0 in /databricks/python3/lib/python3.9/site-packages (from -r /tmp/tmp4h_4m90f/requirements.txt (line 2)) (2.0.0)\nRequirement already satisfied: colorama==0.4.6 in /local_disk0/.ephemeral_nfs/cluster_libraries/python/lib/python3.9/site-packages (from -r /tmp/tmp4h_4m90f/requirements.txt (line 3)) (0.4.6)\nRequirement already satisfied: configparser==5.2.0 in /databricks/python3/lib/python3.9/site-packages (from -r /tmp/tmp4h_4m90f/requirements.txt (line 4)) (5.2.0)\nRequirement already satisfied: dataclasses==0.6 in /local_disk0/.ephemeral_nfs/cluster_libraries/python/lib/python3.9/site-packages (from -r /tmp/tmp4h_4m90f/requirements.txt (line 5)) (0.6)\nCollecting faiss-cpu==1.7.4\n  Using cached faiss_cpu-1.7.4-cp39-cp39-manylinux_2_17_x86_64.manylinux2014_x86_64.whl (17.6 MB)\nRequirement already satisfied: gunicorn==20.1.0 in /databricks/python3/lib/python3.9/site-packages (from -r /tmp/tmp4h_4m90f/requirements.txt (line 7)) (20.1.0)\nCollecting langchain==0.0.250\n  Using cached langchain-0.0.250-py3-none-any.whl (1.4 MB)\nCollecting openai==0.27.6\n  Using cached openai-0.27.6-py3-none-any.whl (71 kB)\nRequirement already satisfied: tornado==6.1 in /databricks/python3/lib/python3.9/site-packages (from -r /tmp/tmp4h_4m90f/requirements.txt (line 10)) (6.1)\nCollecting tiktoken==0.4.0\n  Using cached tiktoken-0.4.0-cp39-cp39-manylinux_2_17_x86_64.manylinux2014_x86_64.whl (1.7 MB)\nCollecting typing-inspect==0.8.0\n  Using cached typing_inspect-0.8.0-py3-none-any.whl (8.7 kB)\nCollecting typing_extensions==4.5.0\n  Using cached typing_extensions-4.5.0-py3-none-any.whl (27 kB)\nRequirement already satisfied: setuptools>=3.0 in /databricks/python3/lib/python3.9/site-packages (from gunicorn==20.1.0->-r /tmp/tmp4h_4m90f/requirements.txt (line 7)) (61.2.0)\nCollecting openapi-schema-pydantic<2.0,>=1.2\n  Using cached openapi_schema_pydantic-1.2.4-py3-none-any.whl (90 kB)\nRequirement already satisfied: pydantic<2,>=1 in /databricks/python3/lib/python3.9/site-packages (from langchain==0.0.250->-r /tmp/tmp4h_4m90f/requirements.txt (line 8)) (1.10.2)\nCollecting langsmith<0.1.0,>=0.0.11\n  Using cached langsmith-0.0.21-py3-none-any.whl (32 kB)\nCollecting numexpr<3.0.0,>=2.8.4\n  Using cached numexpr-2.8.5-cp39-cp39-manylinux_2_17_x86_64.manylinux2014_x86_64.whl (382 kB)\nCollecting tenacity<9.0.0,>=8.1.0\n  Using cached tenacity-8.2.2-py3-none-any.whl (24 kB)\nCollecting SQLAlchemy<3,>=1.4\n  Using cached SQLAlchemy-2.0.19-cp39-cp39-manylinux_2_17_x86_64.manylinux2014_x86_64.whl (2.8 MB)\nRequirement already satisfied: numpy<2,>=1 in /local_disk0/.ephemeral_nfs/cluster_libraries/python/lib/python3.9/site-packages (from langchain==0.0.250->-r /tmp/tmp4h_4m90f/requirements.txt (line 8)) (1.21.6)\nRequirement already satisfied: PyYAML>=5.4.1 in /databricks/python3/lib/python3.9/site-packages (from langchain==0.0.250->-r /tmp/tmp4h_4m90f/requirements.txt (line 8)) (6.0)\nRequirement already satisfied: requests<3,>=2 in /databricks/python3/lib/python3.9/site-packages (from langchain==0.0.250->-r /tmp/tmp4h_4m90f/requirements.txt (line 8)) (2.27.1)\nCollecting dataclasses-json<0.6.0,>=0.5.7\n  Using cached dataclasses_json-0.5.14-py3-none-any.whl (26 kB)\nCollecting aiohttp<4.0.0,>=3.8.3\n  Using cached aiohttp-3.8.5-cp39-cp39-manylinux_2_17_x86_64.manylinux2014_x86_64.whl (1.1 MB)\nCollecting async-timeout<5.0.0,>=4.0.0\n  Using cached async_timeout-4.0.3-py3-none-any.whl (5.7 kB)\nRequirement already satisfied: tqdm in /databricks/python3/lib/python3.9/site-packages (from openai==0.27.6->-r /tmp/tmp4h_4m90f/requirements.txt (line 9)) (4.64.0)\nRequirement already satisfied: regex>=2022.1.18 in /databricks/python3/lib/python3.9/site-packages (from tiktoken==0.4.0->-r /tmp/tmp4h_4m90f/requirements.txt (line 12)) (2022.3.15)\nRequirement already satisfied: mypy-extensions>=0.3.0 in /databricks/python3/lib/python3.9/site-packages (from typing-inspect==0.8.0->-r /tmp/tmp4h_4m90f/requirements.txt (line 15)) (0.4.3)\nCollecting docker<7,>=4.0.0\n  Downloading docker-6.1.3-py3-none-any.whl (148 kB)\nRequirement already satisfied: pytz<2024 in /databricks/python3/lib/python3.9/site-packages (from mlflow<3,>=2.1->-r /tmp/tmp4h_4m90f/requirements.txt (line 1)) (2021.3)\nRequirement already satisfied: gitpython<4,>=2.1.0 in /databricks/python3/lib/python3.9/site-packages (from mlflow<3,>=2.1->-r /tmp/tmp4h_4m90f/requirements.txt (line 1)) (3.1.27)\nRequirement already satisfied: protobuf<5,>=3.12.0 in /databricks/python3/lib/python3.9/site-packages (from mlflow<3,>=2.1->-r /tmp/tmp4h_4m90f/requirements.txt (line 1)) (3.19.4)\nCollecting alembic!=1.10.0,<2\n  Downloading alembic-1.11.2-py3-none-any.whl (225 kB)\nRequirement already satisfied: Jinja2<4,>=2.11 in /databricks/python3/lib/python3.9/site-packages (from mlflow<3,>=2.1->-r /tmp/tmp4h_4m90f/requirements.txt (line 1)) (2.11.3)\nRequirement already satisfied: scipy<2 in /databricks/python3/lib/python3.9/site-packages (from mlflow<3,>=2.1->-r /tmp/tmp4h_4m90f/requirements.txt (line 1)) (1.7.3)\nRequirement already satisfied: Flask<3 in /databricks/python3/lib/python3.9/site-packages (from mlflow<3,>=2.1->-r /tmp/tmp4h_4m90f/requirements.txt (line 1)) (1.1.2+db1)\nRequirement already satisfied: pyarrow<13,>=4.0.0 in /databricks/python3/lib/python3.9/site-packages (from mlflow<3,>=2.1->-r /tmp/tmp4h_4m90f/requirements.txt (line 1)) (7.0.0)\nRequirement already satisfied: matplotlib<4 in /databricks/python3/lib/python3.9/site-packages (from mlflow<3,>=2.1->-r /tmp/tmp4h_4m90f/requirements.txt (line 1)) (3.5.1)\nRequirement already satisfied: scikit-learn<2 in /databricks/python3/lib/python3.9/site-packages (from mlflow<3,>=2.1->-r /tmp/tmp4h_4m90f/requirements.txt (line 1)) (1.0.2)\nRequirement already satisfied: entrypoints<1 in /databricks/python3/lib/python3.9/site-packages (from mlflow<3,>=2.1->-r /tmp/tmp4h_4m90f/requirements.txt (line 1)) (0.4)\nRequirement already satisfied: markdown<4,>=3.3 in /databricks/python3/lib/python3.9/site-packages (from mlflow<3,>=2.1->-r /tmp/tmp4h_4m90f/requirements.txt (line 1)) (3.3.4)\nRequirement already satisfied: pandas<3 in /local_disk0/.ephemeral_nfs/cluster_libraries/python/lib/python3.9/site-packages (from mlflow<3,>=2.1->-r /tmp/tmp4h_4m90f/requirements.txt (line 1)) (1.5.3)\nCollecting querystring-parser<2\n  Downloading querystring_parser-1.2.4-py2.py3-none-any.whl (7.9 kB)\nRequirement already satisfied: importlib-metadata!=4.7.0,<7,>=3.7.0 in /databricks/python3/lib/python3.9/site-packages (from mlflow<3,>=2.1->-r /tmp/tmp4h_4m90f/requirements.txt (line 1)) (4.11.3)\nRequirement already satisfied: packaging<24 in /databricks/python3/lib/python3.9/site-packages (from mlflow<3,>=2.1->-r /tmp/tmp4h_4m90f/requirements.txt (line 1)) (21.3)\nRequirement already satisfied: sqlparse<1,>=0.4.0 in /databricks/python3/lib/python3.9/site-packages (from mlflow<3,>=2.1->-r /tmp/tmp4h_4m90f/requirements.txt (line 1)) (0.4.2)\nRequirement already satisfied: databricks-cli<1,>=0.8.7 in /databricks/python3/lib/python3.9/site-packages (from mlflow<3,>=2.1->-r /tmp/tmp4h_4m90f/requirements.txt (line 1)) (0.17.4)\nRequirement already satisfied: click<9,>=7.0 in /databricks/python3/lib/python3.9/site-packages (from mlflow<3,>=2.1->-r /tmp/tmp4h_4m90f/requirements.txt (line 1)) (8.0.4)\nCollecting frozenlist>=1.1.1\n  Using cached frozenlist-1.4.0-cp39-cp39-manylinux_2_5_x86_64.manylinux1_x86_64.manylinux_2_17_x86_64.manylinux2014_x86_64.whl (228 kB)\nRequirement already satisfied: charset-normalizer<4.0,>=2.0 in /databricks/python3/lib/python3.9/site-packages (from aiohttp<4.0.0,>=3.8.3->langchain==0.0.250->-r /tmp/tmp4h_4m90f/requirements.txt (line 8)) (2.0.4)\nCollecting yarl<2.0,>=1.0\n  Using cached yarl-1.9.2-cp39-cp39-manylinux_2_17_x86_64.manylinux2014_x86_64.whl (269 kB)\nCollecting aiosignal>=1.1.2\n  Using cached aiosignal-1.3.1-py3-none-any.whl (7.6 kB)\nCollecting multidict<7.0,>=4.5\n  Using cached multidict-6.0.4-cp39-cp39-manylinux_2_17_x86_64.manylinux2014_x86_64.whl (114 kB)\nRequirement already satisfied: attrs>=17.3.0 in /databricks/python3/lib/python3.9/site-packages (from aiohttp<4.0.0,>=3.8.3->langchain==0.0.250->-r /tmp/tmp4h_4m90f/requirements.txt (line 8)) (21.4.0)\nRequirement already satisfied: Mako in /databricks/python3/lib/python3.9/site-packages (from alembic!=1.10.0,<2->mlflow<3,>=2.1->-r /tmp/tmp4h_4m90f/requirements.txt (line 1)) (1.2.0)\nRequirement already satisfied: tabulate>=0.7.7 in /databricks/python3/lib/python3.9/site-packages (from databricks-cli<1,>=0.8.7->mlflow<3,>=2.1->-r /tmp/tmp4h_4m90f/requirements.txt (line 1)) (0.8.9)\nRequirement already satisfied: six>=1.10.0 in /databricks/python3/lib/python3.9/site-packages (from databricks-cli<1,>=0.8.7->mlflow<3,>=2.1->-r /tmp/tmp4h_4m90f/requirements.txt (line 1)) (1.16.0)\nRequirement already satisfied: oauthlib>=3.1.0 in /databricks/python3/lib/python3.9/site-packages (from databricks-cli<1,>=0.8.7->mlflow<3,>=2.1->-r /tmp/tmp4h_4m90f/requirements.txt (line 1)) (3.2.0)\nRequirement already satisfied: pyjwt>=1.7.0 in /databricks/python3/lib/python3.9/site-packages (from databricks-cli<1,>=0.8.7->mlflow<3,>=2.1->-r /tmp/tmp4h_4m90f/requirements.txt (line 1)) (2.6.0)\nCollecting marshmallow<4.0.0,>=3.18.0\n  Using cached marshmallow-3.20.1-py3-none-any.whl (49 kB)\nRequirement already satisfied: urllib3>=1.26.0 in /databricks/python3/lib/python3.9/site-packages (from docker<7,>=4.0.0->mlflow<3,>=2.1->-r /tmp/tmp4h_4m90f/requirements.txt (line 1)) (1.26.9)\nRequirement already satisfied: websocket-client>=0.32.0 in /databricks/python3/lib/python3.9/site-packages (from docker<7,>=4.0.0->mlflow<3,>=2.1->-r /tmp/tmp4h_4m90f/requirements.txt (line 1)) (0.58.0)\nRequirement already satisfied: itsdangerous>=0.24 in /databricks/python3/lib/python3.9/site-packages (from Flask<3->mlflow<3,>=2.1->-r /tmp/tmp4h_4m90f/requirements.txt (line 1)) (2.0.1)\nRequirement already satisfied: Werkzeug>=0.15 in /databricks/python3/lib/python3.9/site-packages (from Flask<3->mlflow<3,>=2.1->-r /tmp/tmp4h_4m90f/requirements.txt (line 1)) (2.0.3)\nRequirement already satisfied: gitdb<5,>=4.0.1 in /databricks/python3/lib/python3.9/site-packages (from gitpython<4,>=2.1.0->mlflow<3,>=2.1->-r /tmp/tmp4h_4m90f/requirements.txt (line 1)) (4.0.10)\nRequirement already satisfied: smmap<6,>=3.0.1 in /databricks/python3/lib/python3.9/site-packages (from gitdb<5,>=4.0.1->gitpython<4,>=2.1.0->mlflow<3,>=2.1->-r /tmp/tmp4h_4m90f/requirements.txt (line 1)) (5.0.0)\nRequirement already satisfied: zipp>=0.5 in /databricks/python3/lib/python3.9/site-packages (from importlib-metadata!=4.7.0,<7,>=3.7.0->mlflow<3,>=2.1->-r /tmp/tmp4h_4m90f/requirements.txt (line 1)) (3.7.0)\nRequirement already satisfied: MarkupSafe>=0.23 in /databricks/python3/lib/python3.9/site-packages (from Jinja2<4,>=2.11->mlflow<3,>=2.1->-r /tmp/tmp4h_4m90f/requirements.txt (line 1)) (2.0.1)\nRequirement already satisfied: python-dateutil>=2.7 in /databricks/python3/lib/python3.9/site-packages (from matplotlib<4->mlflow<3,>=2.1->-r /tmp/tmp4h_4m90f/requirements.txt (line 1)) (2.8.2)\nRequirement already satisfied: fonttools>=4.22.0 in /databricks/python3/lib/python3.9/site-packages (from matplotlib<4->mlflow<3,>=2.1->-r /tmp/tmp4h_4m90f/requirements.txt (line 1)) (4.25.0)\nRequirement already satisfied: kiwisolver>=1.0.1 in /databricks/python3/lib/python3.9/site-packages (from matplotlib<4->mlflow<3,>=2.1->-r /tmp/tmp4h_4m90f/requirements.txt (line 1)) (1.3.2)\nRequirement already satisfied: pyparsing>=2.2.1 in /databricks/python3/lib/python3.9/site-packages (from matplotlib<4->mlflow<3,>=2.1->-r /tmp/tmp4h_4m90f/requirements.txt (line 1)) (3.0.4)\nRequirement already satisfied: cycler>=0.10 in /databricks/python3/lib/python3.9/site-packages (from matplotlib<4->mlflow<3,>=2.1->-r /tmp/tmp4h_4m90f/requirements.txt (line 1)) (0.11.0)\nRequirement already satisfied: pillow>=6.2.0 in /databricks/python3/lib/python3.9/site-packages (from matplotlib<4->mlflow<3,>=2.1->-r /tmp/tmp4h_4m90f/requirements.txt (line 1)) (9.0.1)\nRequirement already satisfied: idna<4,>=2.5 in /databricks/python3/lib/python3.9/site-packages (from requests<3,>=2->langchain==0.0.250->-r /tmp/tmp4h_4m90f/requirements.txt (line 8)) (3.3)\nRequirement already satisfied: certifi>=2017.4.17 in /databricks/python3/lib/python3.9/site-packages (from requests<3,>=2->langchain==0.0.250->-r /tmp/tmp4h_4m90f/requirements.txt (line 8)) (2021.10.8)\nRequirement already satisfied: threadpoolctl>=2.0.0 in /databricks/python3/lib/python3.9/site-packages (from scikit-learn<2->mlflow<3,>=2.1->-r /tmp/tmp4h_4m90f/requirements.txt (line 1)) (2.2.0)\nRequirement already satisfied: joblib>=0.11 in /databricks/python3/lib/python3.9/site-packages (from scikit-learn<2->mlflow<3,>=2.1->-r /tmp/tmp4h_4m90f/requirements.txt (line 1)) (1.1.1)\nCollecting greenlet!=0.4.17\n  Using cached greenlet-2.0.2-cp39-cp39-manylinux_2_17_x86_64.manylinux2014_x86_64.whl (610 kB)\nInstalling collected packages: typing-extensions, multidict, greenlet, frozenlist, yarl, typing-inspect, SQLAlchemy, marshmallow, async-timeout, aiosignal, tenacity, querystring-parser, openapi-schema-pydantic, numexpr, langsmith, docker, dataclasses-json, alembic, aiohttp, tiktoken, openai, mlflow, langchain, faiss-cpu\n  Attempting uninstall: typing-extensions\n    Found existing installation: typing-extensions 4.1.1\n    Not uninstalling typing-extensions at /databricks/python3/lib/python3.9/site-packages, outside environment /local_disk0/.ephemeral_nfs/envs/pythonEnv-e703ddb3-93fb-4759-85dc-4f021b436576\n    Can't uninstall 'typing-extensions'. No files were found to uninstall.\n  Attempting uninstall: tenacity\n    Found existing installation: tenacity 8.0.1\n    Not uninstalling tenacity at /databricks/python3/lib/python3.9/site-packages, outside environment /local_disk0/.ephemeral_nfs/envs/pythonEnv-e703ddb3-93fb-4759-85dc-4f021b436576\n    Can't uninstall 'tenacity'. No files were found to uninstall.\nSuccessfully installed SQLAlchemy-2.0.19 aiohttp-3.8.5 aiosignal-1.3.1 alembic-1.11.2 async-timeout-4.0.3 dataclasses-json-0.5.14 docker-6.1.3 faiss-cpu-1.7.4 frozenlist-1.4.0 greenlet-2.0.2 langchain-0.0.250 langsmith-0.0.21 marshmallow-3.20.1 mlflow-2.5.0 multidict-6.0.4 numexpr-2.8.5 openai-0.27.6 openapi-schema-pydantic-1.2.4 querystring-parser-1.2.4 tenacity-8.2.2 tiktoken-0.4.0 typing-extensions-4.5.0 typing-inspect-0.8.0 yarl-1.9.2\nPython interpreter will be restarted.\n"
     ]
    }
   ],
   "source": [
    "import mlflow\n",
    "\n",
    "requirements_path = mlflow.pyfunc.get_model_dependencies(config['model_uri'])\n",
    "%pip install -r $requirements_path\n",
    "dbutils.library.restartPython()"
   ]
  },
  {
   "cell_type": "markdown",
   "metadata": {
    "application/vnd.databricks.v1+cell": {
     "cellMetadata": {},
     "inputWidgets": {},
     "nuid": "e107100e-2bd5-4a34-a82b-f2c73106ab12",
     "showTitle": false,
     "title": ""
    }
   },
   "source": [
    "Because the previous block restarts the kernel, let's set our configs again and import the dependencies:"
   ]
  },
  {
   "cell_type": "code",
   "execution_count": 0,
   "metadata": {
    "application/vnd.databricks.v1+cell": {
     "cellMetadata": {
      "byteLimit": 2048000,
      "rowLimit": 10000
     },
     "inputWidgets": {},
     "nuid": "acc521ee-7fa6-4a8a-961b-d20a3b0a5b4a",
     "showTitle": false,
     "title": ""
    }
   },
   "outputs": [],
   "source": [
    "%run \"./utils/config_utils\""
   ]
  },
  {
   "cell_type": "code",
   "execution_count": 0,
   "metadata": {
    "application/vnd.databricks.v1+cell": {
     "cellMetadata": {
      "byteLimit": 2048000,
      "rowLimit": 10000
     },
     "inputWidgets": {},
     "nuid": "8ff81357-6090-4906-9e06-8a06340fe4cf",
     "showTitle": false,
     "title": ""
    }
   },
   "outputs": [
    {
     "output_type": "display_data",
     "data": {
      "application/vnd.databricks.v1+bamboolib_hint": "{\"pd.DataFrames\": [], \"version\": \"0.0.1\"}",
      "text/plain": []
     },
     "metadata": {},
     "output_type": "display_data"
    }
   ],
   "source": [
    "import pandas as pd\n",
    "import numpy as np\n",
    "import openai\n",
    "import json\n",
    "from langchain.llms import OpenAI\n",
    "import os\n",
    "from langchain.evaluation.qa import QAEvalChain\n",
    "import mlflow"
   ]
  },
  {
   "cell_type": "markdown",
   "metadata": {
    "application/vnd.databricks.v1+cell": {
     "cellMetadata": {},
     "inputWidgets": {},
     "nuid": "49d35bad-5763-4a72-b5a7-13cf81e2f9e1",
     "showTitle": false,
     "title": ""
    }
   },
   "source": [
    "We have prepared an evaluation set of questions and correct answers that contain both the correct reference and a sample answer. Let's take a look at an example:"
   ]
  },
  {
   "cell_type": "code",
   "execution_count": 0,
   "metadata": {
    "application/vnd.databricks.v1+cell": {
     "cellMetadata": {
      "byteLimit": 2048000,
      "rowLimit": 10000
     },
     "inputWidgets": {},
     "nuid": "f891f684-d3a4-46da-8c40-fd827948e7c2",
     "showTitle": false,
     "title": ""
    }
   },
   "outputs": [
    {
     "output_type": "display_data",
     "data": {
      "text/html": [
       "<div>\n",
       "<style scoped>\n",
       "    .dataframe tbody tr th:only-of-type {\n",
       "        vertical-align: middle;\n",
       "    }\n",
       "\n",
       "    .dataframe tbody tr th {\n",
       "        vertical-align: top;\n",
       "    }\n",
       "\n",
       "    .dataframe thead th {\n",
       "        text-align: right;\n",
       "    }\n",
       "</style>\n",
       "<table border=\"1\" class=\"dataframe\">\n",
       "  <thead>\n",
       "    <tr style=\"text-align: right;\">\n",
       "      <th></th>\n",
       "      <th>question</th>\n",
       "      <th>correct_source</th>\n",
       "      <th>answer</th>\n",
       "    </tr>\n",
       "  </thead>\n",
       "  <tbody>\n",
       "    <tr>\n",
       "      <th>0</th>\n",
       "      <td>¿El cónsul puede obligar a comparecer al reque...</td>\n",
       "      <td>https://www.icbf.gov.co/el-consul-puede-obliga...</td>\n",
       "      <td>No, el cónsul no cuenta con la facultad de obl...</td>\n",
       "    </tr>\n",
       "    <tr>\n",
       "      <th>1</th>\n",
       "      <td>¿Cómo logra el ICBF que sus programas sean inc...</td>\n",
       "      <td>https://www.icbf.gov.co/como-logra-el-icbf-que...</td>\n",
       "      <td>A través de la creación de un modelo de enfoqu...</td>\n",
       "    </tr>\n",
       "    <tr>\n",
       "      <th>2</th>\n",
       "      <td>¿Cuáles son los objetivos del enfoque diferenc...</td>\n",
       "      <td>https://www.icbf.gov.co/cuales-son-los-objetiv...</td>\n",
       "      <td>El objetivo principal del enfoque diferencial ...</td>\n",
       "    </tr>\n",
       "    <tr>\n",
       "      <th>3</th>\n",
       "      <td>¿Qué es la homofobia?</td>\n",
       "      <td>https://www.icbf.gov.co/que-es-la-homofobia</td>\n",
       "      <td>La homofobia es el rechazo constante de person...</td>\n",
       "    </tr>\n",
       "    <tr>\n",
       "      <th>4</th>\n",
       "      <td>¿Cuáles son las acciones que se realizan para ...</td>\n",
       "      <td>https://www.icbf.gov.co/cuales-son-las-accione...</td>\n",
       "      <td>1. Conocer y entender las características, con...</td>\n",
       "    </tr>\n",
       "    <tr>\n",
       "      <th>5</th>\n",
       "      <td>¿A quién le corresponde el pago de la prueba d...</td>\n",
       "      <td>https://www.icbf.gov.co/quien-le-corresponde-e...</td>\n",
       "      <td>El costo será asumido por quien solicita la pr...</td>\n",
       "    </tr>\n",
       "    <tr>\n",
       "      <th>6</th>\n",
       "      <td>Quiénes pueden ser contratados por el ICBF par...</td>\n",
       "      <td>https://www.icbf.gov.co/quienes-pueden-ser-con...</td>\n",
       "      <td>\"\"\"Dado el interés del ICBF por garantizar que...</td>\n",
       "    </tr>\n",
       "    <tr>\n",
       "      <th>7</th>\n",
       "      <td>¿Cuál es el procedimiento para iniciar un proc...</td>\n",
       "      <td>https://www.icbf.gov.co/cual-es-el-procedimien...</td>\n",
       "      <td>El Defensor de Familia cita a las personas inv...</td>\n",
       "    </tr>\n",
       "    <tr>\n",
       "      <th>8</th>\n",
       "      <td>¿Cuáles son las implicaciones legales de reali...</td>\n",
       "      <td>https://www.icbf.gov.co/cuales-son-las-implica...</td>\n",
       "      <td>Se establece la filiación legal entre el padre...</td>\n",
       "    </tr>\n",
       "    <tr>\n",
       "      <th>9</th>\n",
       "      <td>Realizamos conciliación frente a alimentos, cu...</td>\n",
       "      <td>https://www.icbf.gov.co/realizamos-conciliacio...</td>\n",
       "      <td>Cuando se incumplan los acuerdos fijados media...</td>\n",
       "    </tr>\n",
       "    <tr>\n",
       "      <th>10</th>\n",
       "      <td>Si uno de los padres desea realizar Ofrecimien...</td>\n",
       "      <td>https://www.icbf.gov.co/si-uno-de-los-padres-d...</td>\n",
       "      <td>Los trámites previstos en la Ley de Infancia y...</td>\n",
       "    </tr>\n",
       "    <tr>\n",
       "      <th>11</th>\n",
       "      <td>¿Cómo se garantiza la confidencialidad de la i...</td>\n",
       "      <td>https://www.icbf.gov.co/como-se-garantiza-la-c...</td>\n",
       "      <td>Como mecanismo de protección al informante de ...</td>\n",
       "    </tr>\n",
       "    <tr>\n",
       "      <th>12</th>\n",
       "      <td>¿Cuándo se puede presentar el peculado por coh...</td>\n",
       "      <td>https://www.icbf.gov.co/cuando-se-puede-presen...</td>\n",
       "      <td>Según el artículo 405 del Código Penal, modifi...</td>\n",
       "    </tr>\n",
       "    <tr>\n",
       "      <th>13</th>\n",
       "      <td>¿El presunto padre se puede negar a la práctic...</td>\n",
       "      <td>https://www.icbf.gov.co/el-presunto-padre-se-p...</td>\n",
       "      <td>\"\"\"Si, sin embargo, la negación reiterativa de...</td>\n",
       "    </tr>\n",
       "    <tr>\n",
       "      <th>14</th>\n",
       "      <td>¿Realicé una prueba biológica de ADN en un lab...</td>\n",
       "      <td>https://www.icbf.gov.co/realice-una-prueba-bio...</td>\n",
       "      <td>Sí, es posible presentarla; sin embargo, el Ju...</td>\n",
       "    </tr>\n",
       "    <tr>\n",
       "      <th>15</th>\n",
       "      <td>¿En Colombia es permitido adoptar personas may...</td>\n",
       "      <td>https://www.icbf.gov.co/en-colombia-es-permiti...</td>\n",
       "      <td>Si, la Ley 1098 de 2006 permite la adopción de...</td>\n",
       "    </tr>\n",
       "    <tr>\n",
       "      <th>16</th>\n",
       "      <td>¿Dónde debo iniciar un proceso de adopción si ...</td>\n",
       "      <td>https://www.icbf.gov.co/donde-debo-iniciar-un-...</td>\n",
       "      <td>Debe dirigirse al Centro Zonal de Bienestar Fa...</td>\n",
       "    </tr>\n",
       "    <tr>\n",
       "      <th>17</th>\n",
       "      <td>¿Dónde debo iniciar un proceso de adopción si ...</td>\n",
       "      <td>https://www.icbf.gov.co/donde-debo-iniciar-un-...</td>\n",
       "      <td>Debe dirigirse al Centro Zonal de Bienestar Fa...</td>\n",
       "    </tr>\n",
       "  </tbody>\n",
       "</table>\n",
       "</div>"
      ]
     },
     "metadata": {
      "application/vnd.databricks.v1+output": {
       "addedWidgets": {},
       "arguments": {},
       "data": "<div>\n<style scoped>\n    .dataframe tbody tr th:only-of-type {\n        vertical-align: middle;\n    }\n\n    .dataframe tbody tr th {\n        vertical-align: top;\n    }\n\n    .dataframe thead th {\n        text-align: right;\n    }\n</style>\n<table border=\"1\" class=\"dataframe\">\n  <thead>\n    <tr style=\"text-align: right;\">\n      <th></th>\n      <th>question</th>\n      <th>correct_source</th>\n      <th>answer</th>\n    </tr>\n  </thead>\n  <tbody>\n    <tr>\n      <th>0</th>\n      <td>¿El cónsul puede obligar a comparecer al reque...</td>\n      <td>https://www.icbf.gov.co/el-consul-puede-obliga...</td>\n      <td>No, el cónsul no cuenta con la facultad de obl...</td>\n    </tr>\n    <tr>\n      <th>1</th>\n      <td>¿Cómo logra el ICBF que sus programas sean inc...</td>\n      <td>https://www.icbf.gov.co/como-logra-el-icbf-que...</td>\n      <td>A través de la creación de un modelo de enfoqu...</td>\n    </tr>\n    <tr>\n      <th>2</th>\n      <td>¿Cuáles son los objetivos del enfoque diferenc...</td>\n      <td>https://www.icbf.gov.co/cuales-son-los-objetiv...</td>\n      <td>El objetivo principal del enfoque diferencial ...</td>\n    </tr>\n    <tr>\n      <th>3</th>\n      <td>¿Qué es la homofobia?</td>\n      <td>https://www.icbf.gov.co/que-es-la-homofobia</td>\n      <td>La homofobia es el rechazo constante de person...</td>\n    </tr>\n    <tr>\n      <th>4</th>\n      <td>¿Cuáles son las acciones que se realizan para ...</td>\n      <td>https://www.icbf.gov.co/cuales-son-las-accione...</td>\n      <td>1. Conocer y entender las características, con...</td>\n    </tr>\n    <tr>\n      <th>5</th>\n      <td>¿A quién le corresponde el pago de la prueba d...</td>\n      <td>https://www.icbf.gov.co/quien-le-corresponde-e...</td>\n      <td>El costo será asumido por quien solicita la pr...</td>\n    </tr>\n    <tr>\n      <th>6</th>\n      <td>Quiénes pueden ser contratados por el ICBF par...</td>\n      <td>https://www.icbf.gov.co/quienes-pueden-ser-con...</td>\n      <td>\"\"\"Dado el interés del ICBF por garantizar que...</td>\n    </tr>\n    <tr>\n      <th>7</th>\n      <td>¿Cuál es el procedimiento para iniciar un proc...</td>\n      <td>https://www.icbf.gov.co/cual-es-el-procedimien...</td>\n      <td>El Defensor de Familia cita a las personas inv...</td>\n    </tr>\n    <tr>\n      <th>8</th>\n      <td>¿Cuáles son las implicaciones legales de reali...</td>\n      <td>https://www.icbf.gov.co/cuales-son-las-implica...</td>\n      <td>Se establece la filiación legal entre el padre...</td>\n    </tr>\n    <tr>\n      <th>9</th>\n      <td>Realizamos conciliación frente a alimentos, cu...</td>\n      <td>https://www.icbf.gov.co/realizamos-conciliacio...</td>\n      <td>Cuando se incumplan los acuerdos fijados media...</td>\n    </tr>\n    <tr>\n      <th>10</th>\n      <td>Si uno de los padres desea realizar Ofrecimien...</td>\n      <td>https://www.icbf.gov.co/si-uno-de-los-padres-d...</td>\n      <td>Los trámites previstos en la Ley de Infancia y...</td>\n    </tr>\n    <tr>\n      <th>11</th>\n      <td>¿Cómo se garantiza la confidencialidad de la i...</td>\n      <td>https://www.icbf.gov.co/como-se-garantiza-la-c...</td>\n      <td>Como mecanismo de protección al informante de ...</td>\n    </tr>\n    <tr>\n      <th>12</th>\n      <td>¿Cuándo se puede presentar el peculado por coh...</td>\n      <td>https://www.icbf.gov.co/cuando-se-puede-presen...</td>\n      <td>Según el artículo 405 del Código Penal, modifi...</td>\n    </tr>\n    <tr>\n      <th>13</th>\n      <td>¿El presunto padre se puede negar a la práctic...</td>\n      <td>https://www.icbf.gov.co/el-presunto-padre-se-p...</td>\n      <td>\"\"\"Si, sin embargo, la negación reiterativa de...</td>\n    </tr>\n    <tr>\n      <th>14</th>\n      <td>¿Realicé una prueba biológica de ADN en un lab...</td>\n      <td>https://www.icbf.gov.co/realice-una-prueba-bio...</td>\n      <td>Sí, es posible presentarla; sin embargo, el Ju...</td>\n    </tr>\n    <tr>\n      <th>15</th>\n      <td>¿En Colombia es permitido adoptar personas may...</td>\n      <td>https://www.icbf.gov.co/en-colombia-es-permiti...</td>\n      <td>Si, la Ley 1098 de 2006 permite la adopción de...</td>\n    </tr>\n    <tr>\n      <th>16</th>\n      <td>¿Dónde debo iniciar un proceso de adopción si ...</td>\n      <td>https://www.icbf.gov.co/donde-debo-iniciar-un-...</td>\n      <td>Debe dirigirse al Centro Zonal de Bienestar Fa...</td>\n    </tr>\n    <tr>\n      <th>17</th>\n      <td>¿Dónde debo iniciar un proceso de adopción si ...</td>\n      <td>https://www.icbf.gov.co/donde-debo-iniciar-un-...</td>\n      <td>Debe dirigirse al Centro Zonal de Bienestar Fa...</td>\n    </tr>\n  </tbody>\n</table>\n</div>",
       "datasetInfos": [],
       "metadata": {},
       "removedWidgets": [],
       "textData": null,
       "type": "htmlSandbox"
      }
     },
     "output_type": "display_data"
    }
   ],
   "source": [
    "eval_dataset = (\n",
    "  spark\n",
    "    .table('sources')\n",
    "    .selectExpr(\n",
    "        \"title\",\n",
    "        \"url\",\n",
    "        \"answer\"\n",
    "    )\n",
    "    .withColumnRenamed(\"title\", \"question\")\n",
    "    .withColumnRenamed(\"url\", \"correct_source\")\n",
    "    .sample(0.05, seed=42).toPandas())\n",
    "\n",
    "eval_dataset"
   ]
  },
  {
   "cell_type": "code",
   "execution_count": 0,
   "metadata": {
    "application/vnd.databricks.v1+cell": {
     "cellMetadata": {
      "byteLimit": 2048000,
      "rowLimit": 10000
     },
     "inputWidgets": {},
     "nuid": "d670906f-0a00-43d4-87e0-d9439cc4e4b6",
     "showTitle": false,
     "title": ""
    }
   },
   "outputs": [
    {
     "output_type": "stream",
     "name": "stdout",
     "output_type": "stream",
     "text": [
      "Out[70]: [{'question': '¿El cónsul puede obligar a comparecer al requerido en un proceso?',\n  'correct_source': 'https://www.icbf.gov.co/el-consul-puede-obligar-comparecer-al-requerido-en-un-proceso',\n  'answer': 'No, el cónsul no cuenta con la facultad de obligar a ninguna persona para la ejecución de diligencias para las cuales ha sido comisionado. Su actuación deberá enmarcarse dentro de la más absoluta moderación y prudencia, evitando así cualquier inconveniente que pueda afectar las relaciones internacionales entre los estados. ',\n  'validation_question': '¿Puede un cónsul obligar a comparecer a alguien en un proceso?'},\n {'question': '¿Cómo logra el ICBF que sus programas sean inclusivos frente a la atención de niños, niñas y adolescentes con discapacidad y sus familias?',\n  'correct_source': 'https://www.icbf.gov.co/como-logra-el-icbf-que-sus-programas-sean-inclusivos-frente-la-atencion-de-ninos-ninas-y',\n  'answer': 'A través de la creación de un modelo de enfoque diferencial de derechos que promueve en sus programas la inclusión de niños, niñas, adolescentes con discapacidad y sus familias, con lo cual se garantiza la participación activa de esta población.',\n  'validation_question': '¿El ICBF es incluyente con las personas con discapacidad?'},\n {'question': '¿Cuáles son los objetivos del enfoque diferencial?',\n  'correct_source': 'https://www.icbf.gov.co/cuales-son-los-objetivos-del-enfoque-diferencial',\n  'answer': 'El objetivo principal del enfoque diferencial es que la sociedad colombiana avance hacia la igualdad social, a partir de reconocer, comprender y valorar las creencias, prácticas, saberes, expectativas y formas propias de relacionamiento de los ciudadanos. Sus otros objetivos son: Favorecer y hacer posible el bienestar y desarrollo de los pueblos, comunidades y colectivos culturalmente diversos. Proteger los derechos de los grupos e individuos considerados como minoría. Contribuir a la reducción de cualquier forma de discriminación o segregación social, cultural, espiritual, económica y espacial. Diseñar e implementar políticas, programas o servicios que ofrezcan igualdad de oportunidades de desarrollo a grupos tradicionalmente segregados, excluidos o marginados social y culturalmente.',\n  'validation_question': '¿Qué es el enfoque diferencial?'},\n {'question': '¿Qué es la homofobia?',\n  'correct_source': 'https://www.icbf.gov.co/que-es-la-homofobia',\n  'answer': 'La homofobia es el rechazo constante de personas heterosexuales a personas que son homosexuales o bisexuales. Puede manifestarse de varias formas, como, por ejemplo, la invisibilización de las personas LGTBI o los crímenes de odio hacia ellos. La homofobia se basa en el pensamiento errado de que una persona heterosexual es supuestamente superior a las personas homosexuales o bisexuales.',\n  'validation_question': 'Definición de homofobia'},\n {'question': '¿Cuáles son las acciones que se realizan para brindar una atención con enfoque diferencial?',\n  'correct_source': 'https://www.icbf.gov.co/cuales-son-las-acciones-que-se-realizan-para-brindar-una-atencion-con-enfoque-diferencial-0',\n  'answer': '1. Conocer y entender las características, condiciones de vida, necesidades y expectativas del grupo de población que va a ser atendido. 2. Diseñar o adecuar un proyecto o servicio social que incluya las condiciones particulares del grupo que va a ser atendido. 3. Socializar los programas o servicios con el grupo que va a ser atendido, y llegar a acuerdos sobre las adecuaciones que se requieran. 4. Contratar a quién vaya a ser el operador del programa o servicio. 5. Brindar asistencia técnica y hacer seguimiento al funcionamiento del programa o servicio a través de los profesionales del ICBF que se encuentren en el centro zonal más cercano. 6. Evaluar periódicamente con el grupo que va a ser atendido el proceso y los resultados alcanzados.',\n  'validation_question': '¿Cómo se logra el enfoque diferencial?'},\n {'question': '¿A quién le corresponde el pago de la prueba de ADN dentro de un proceso de Investigación de la Paternidad?',\n  'correct_source': 'https://www.icbf.gov.co/quien-le-corresponde-el-pago-de-la-prueba-de-adn-dentro-de-un-proceso-de-investigacion-de-la',\n  'answer': 'El costo será asumido por quien solicita la prueba; no obstante, en los casos en que se ha concedido el Amparo de Pobreza dicho costo será asumido por el Estado. En los demás casos, el Juez deberá disponer en la sentencia la obligación de pago para quien haya sido vencido dentro del proceso.',\n  'validation_question': '¿Quién paga las pruebas de ADN?'},\n {'question': 'Quiénes pueden ser contratados por el ICBF para prestar servicios dirigidos a los grupos étnicos?',\n  'correct_source': 'https://www.icbf.gov.co/quienes-pueden-ser-contratados-por-el-icbf-para-prestar-servicios-dirigidos-los-grupos-etnicos',\n  'answer': '\"\"\"Dado el interés del ICBF por garantizar que el enfoque diferencial se aplique en sus programas y servicios, la entidad prioriza que las organizaciones étnicas sean contratistas de servicios para su comunidad, siempre y cuando cumplan con los requisitos exigidos por la ley. Los programas y servicios pueden ser contratados con: Cabildos y asociaciones de autoridades indígenas (AATIS) reconocidas según los parámetros establecidos por el Ministerio del Interior (Decreto 1088 de 1993). Consejos comunitarios de comunidades negras conformados según los parámetros establecidos por el Ministerio del Interior (Decreto 3770 de 2008). Kumpanya del pueblo Rrom certificadas por el Ministerio del Interior. (Decreto 2957 de 2010) Organizaciones representativas de grupos étnicos legalmente constituidas. Entidades sin ánimo de lucro cuyo objeto social se relacione con el objeto a contratar. La entidad sin ánimo de lucro debe concertar la implementación del programa o servicio con la comunidad que será beneficiada dejando evidencia de dicha concertación en acta suscrita por los participantes. Uniones temporales conformadas por entidades sin ánimo de lucro que cumplan las condiciones mencionadas en el punto anterior. \"',\n  'validation_question': '¿A quiénes contrata el ICBF para atender personas indígenas o afro'},\n {'question': '¿Cuál es el procedimiento para iniciar un proceso de reconocimiento voluntario de paternidad ante el ICBF? ',\n  'correct_source': 'https://www.icbf.gov.co/cual-es-el-procedimiento-para-iniciar-un-proceso-de-reconocimiento-voluntario-de-paternidad-ante-el',\n  'answer': 'El Defensor de Familia cita a las personas involucradas, con el fin de promover un reconocimiento voluntario del niño, niña o adolescente. Si el padre acepta el reconocimiento se levanta un acta y el Defensor de Familia la remitirá a la Notaria o Registraduría respectiva, para la inscripción del reconocimiento en el registro civil de nacimiento. En el evento que el presunto padre no acepte el reconocimiento voluntario, el Defensor de Familia iniciará el proceso de Investigación de la Paternidad. No obstante, si en el transcurso de la diligencia de reconocimiento el presunto padre solicita la prueba de ADN, el Defensor de Familia podrá ordenarla. Una vez recibidos los resultados donde se certifica la paternidad, si el padre los acepta, se levantará acta y ordenará la inscripción en el registro civil, pero si el padre no acepta el resultado, el Defensor de Familia en representación de los intereses del menor de edad podrá presentar la demanda de investigación de la paternidad. ',\n  'validation_question': '¿Cómo hago para reconocer la paternidad de mi hija?'},\n {'question': '¿Cuáles son las implicaciones legales de realizar un reconocimiento voluntario de paternidad?',\n  'correct_source': 'https://www.icbf.gov.co/cuales-son-las-implicaciones-legales-de-realizar-un-reconocimiento-voluntario-de-paternidad',\n  'answer': 'Se establece la filiación legal entre el padre y el hijo. A partir de este reconocimiento los padres adquieren obligaciones y derechos establecidos en la ley tales como la patria potestad, la obligación alimentaria, el deber de educar al hijo, los derechos sucesorales, el derecho a llevar los apellidos de sus padres y a adquirir la nacionalidad de ellos, entre otros. ',\n  'validation_question': '¿Qué sucede cuando reconozco la paternidad de mi hije?'},\n {'question': 'Realizamos conciliación frente a alimentos, custodia y visitas y mi ex pareja quedó con la custodia de mi hijo(a), yo cumplo con la cuota de alimentos y aun así no me lo deja ver ¿Qué puedo hacer?',\n  'correct_source': 'https://www.icbf.gov.co/realizamos-conciliacion-frente-alimentos-custodia-y-visitas-y-mi-ex-pareja-quedo-con-la-custodia-de',\n  'answer': 'Cuando se incumplan los acuerdos fijados mediante conciliación, resolución o sentencia respecto de las obligaciones de alimentos, custodia y visitas entre los padres de un niño, niña o adolescente, el progenitor que se vea afectado por tal situación puede acudir ante el Centro Zonal del ICBF del lugar donde se encuentre el menor de edad para poner en conocimiento la situación y provocar la revisión de los acuerdos relacionados con custodia y visitas, con el fin de que la autoridad que conozca del caso (Defensor de Familia, Comisario de Familia o Inspector de Policía) pueda iniciar las acciones a que haya lugar, entre ellas la presentación del proceso ejecutivo por la obligación de hacer, que igualmente puede ser presentada por el interesado directamente. ',\n  'validation_question': '¿Cómo puedo ver a mi hije si la persona con la custodia no me deja verle?'},\n {'question': 'Si uno de los padres desea realizar Ofrecimiento de Alimentos y su lugar de residencia es diferente al del niño, niña o adolescente y no puede desplazarse hasta allí a iniciar el trámite ¿Cómo se adelanta el Ofrecimiento de Alimentos?',\n  'correct_source': 'https://www.icbf.gov.co/si-uno-de-los-padres-desea-realizar-ofrecimiento-de-alimentos-y-su-lugar-de-residencia-es-diferente',\n  'answer': 'Los trámites previstos en la Ley de Infancia y Adolescencia en favor de un niño, niña o adolescente, como es el de fijación de la cuota de alimentos, deben adelantarse ante la autoridad del lugar donde se encuentre el menor de edad. De no encontrarse en el sitio quien desea ofrecer alimentos y serle imposible acudir allí, puede asistir al Centro Zonal del ICBF que le quede más cercano, con el objetivo de realizar un Ofrecimiento de Alimentos y que mediante la figura de la comisión entre Defensorías de Familia, por el principio de colaboración, se posibilite enterar al destinatario del ofrecimiento de alimentos de la oferta que se realiza.En todo caso, el interesado podrá otorgar poder especial para que sea representado ante la Autoridad Administrativa o judicial competente para adelantar dicho trámite. ',\n  'validation_question': '¿Cómo puedo cumplir con la oferta de alimentos si no vivo con mi hije?'},\n {'question': '¿Cómo se garantiza la confidencialidad de la información reportada por el ciudadano?',\n  'correct_source': 'https://www.icbf.gov.co/como-se-garantiza-la-confidencialidad-de-la-informacion-reportada-por-el-ciudadano',\n  'answer': 'Como mecanismo de protección al informante de presuntos actos de corrupción, el ICBF da cumplimiento de la Ley 1755 de 2015 (Mediante la cual se regula el derecho fundamental de petición); a través de la Resolución No. 3962 de 2016, por la cual establece el proceso de recepción de peticiones, quejas, reclamos, sugerencias y denuncias. En este sentido se desarrolló el trámite a seguir en caso de tratarse de una petición o denuncia anónima, en la cual no se requiere el suministro de datos personales del informante y la obligatoriedad de mantener la reserva de la identidad del denunciante en caso de que brinde sus datos. Por otra parte, se garantiza la confidencialidad de la información en aplicación de la ley estatutaria 1581 de 2012.',\n  'validation_question': '¿Los datos personales que recolecta el ICBF son públicos?'},\n {'question': '¿Cuándo se puede presentar el peculado por cohecho propio?',\n  'correct_source': 'https://www.icbf.gov.co/cuando-se-puede-presentar-el-peculado-por-cohecho-propio',\n  'answer': 'Según el artículo 405 del Código Penal, modificado por el artículo 33 de la Ley 1474 de 2011, cuando el servidor público reciba para sí o para otro, dinero u otra utilidad, o acepte promesa remuneratoria, directa o indirectamente, para retardar u omitir un acto propio de su cargo, o para ejecutar uno contrario a sus deberes oficiales.',\n  'validation_question': '¿Un servidor público debe recibir dinero para adelantar trámites?'},\n {'question': '¿El presunto padre se puede negar a la práctica de la prueba de ADN en un proceso de Investigación de la Paternidad?',\n  'correct_source': 'https://www.icbf.gov.co/el-presunto-padre-se-puede-negar-la-practica-de-la-prueba-de-adn-en-un-proceso-de-investigacion-de',\n  'answer': '\"\"\"Si, sin embargo, la negación reiterativa del demandado a la práctica de la prueba se tomará como indicio en su contra. El Juez de Familia tiene el deber legal de decretar la prueba biológica de ADN y el de hacer uso de los mecanismos que le ofrece la Ley para obtenerla; sin embargo, no tiene la facultad de ordenar tomar por la fuerza a un ciudadano para extraerle muestras sanguíneas, piezas dentales, capilares o muestras de sus líquidos o tejidos en contra de su voluntad.\"\"\"',\n  'validation_question': '¿Me puedo negar a hacerme la prueba de ADN?'},\n {'question': '¿Realicé una prueba biológica de ADN en un laboratorio acreditado, la puedo presentar en el proceso de investigación de paternidad?',\n  'correct_source': 'https://www.icbf.gov.co/realice-una-prueba-biologica-de-adn-en-un-laboratorio-acreditado-la-puedo-presentar-en-el-proceso-de',\n  'answer': 'Sí, es posible presentarla; sin embargo, el Juez tiene la facultad de decretar una nueva prueba dentro del proceso de investigación de paternidad.',\n  'validation_question': '¿Puedo presentar una prueba de ADN que me haya tomado yo?'},\n {'question': '¿En Colombia es permitido adoptar personas mayores de edad?',\n  'correct_source': 'https://www.icbf.gov.co/en-colombia-es-permitido-adoptar-personas-mayores-de-edad',\n  'answer': 'Si, la Ley 1098 de 2006 permite la adopción de personas mayores de edad, siendo suficiente para ello otorgar el consentimiento entre adoptante y adoptado, teniendo como único requisito, que el adoptante hubiere tenido el cuidado personal y convivido bajo el mismo techo con el adoptado, por lo menos dos años antes de que éste cumpliera los dieciocho (18) años de edad. El proceso se hace directamente en un Juzgado de Familia, a través de un abogado. ',\n  'validation_question': 'Quiero adoptar a un adulto, ¿cómo lo puedo hacer?'},\n {'question': '¿Dónde debo iniciar un proceso de adopción si soy extranjero y resido en Colombia?  ',\n  'correct_source': 'https://www.icbf.gov.co/donde-debo-iniciar-un-proceso-de-adopcion-si-soy-extranjero-y-resido-en-colombia',\n  'answer': 'Debe dirigirse al Centro Zonal de Bienestar Familiar que le corresponda de acuerdo con el lugar donde se encuentre domiciliado, allí le explicarán el proceso de adopción, requisitos, términos, entre otros.\\xa0 ',\n  'validation_question': 'Soy extranjera en Colombia y quiero adoptar, ¿adónde acudo?'},\n {'question': '¿Dónde debo iniciar un proceso de adopción si soy colombiano y quiero adoptar un niño extranjero?  ',\n  'correct_source': 'https://www.icbf.gov.co/donde-debo-iniciar-un-proceso-de-adopcion-si-soy-colombiano-y-quiero-adoptar-un-nino-extranjero',\n  'answer': 'Debe dirigirse al Centro Zonal de Bienestar Familiar que le corresponda de acuerdo con el lugar donde se encuentre, allí le explicarán el proceso de adopción, requisitos, términos, etc. Debe tenerse en cuenta que en materia de adopción internacional, Colombia tiene el perfil de país de origen (www.hcch.net). ',\n  'validation_question': '¿Cómo puedo adoptar un niño extranjero?'}]"
     ]
    }
   ],
   "source": [
    "# Rephrasing the questions to test the AI model\n",
    "rephrasing = ['¿Puede un cónsul obligar a comparecer a alguien en un proceso?',\n",
    "              '¿El ICBF es incluyente con las personas con discapacidad?',\n",
    "              '¿Qué es el enfoque diferencial?',\n",
    "              'Definición de homofobia',\n",
    "              '¿Cómo se logra el enfoque diferencial?',\n",
    "              '¿Quién paga las pruebas de ADN?',\n",
    "              '¿A quiénes contrata el ICBF para atender personas indígenas o afro',\n",
    "              '¿Cómo hago para reconocer la paternidad de mi hija?',\n",
    "              '¿Qué sucede cuando reconozco la paternidad de mi hije?',\n",
    "              '¿Cómo puedo ver a mi hije si la persona con la custodia no me deja verle?',\n",
    "              '¿Cómo puedo cumplir con la oferta de alimentos si no vivo con mi hije?',\n",
    "              '¿Los datos personales que recolecta el ICBF son públicos?',\n",
    "              '¿Un servidor público debe recibir dinero para adelantar trámites?',\n",
    "              '¿Me puedo negar a hacerme la prueba de ADN?',\n",
    "              '¿Puedo presentar una prueba de ADN que me haya tomado yo?', \n",
    "              'Quiero adoptar a un adulto, ¿cómo lo puedo hacer?',\n",
    "              'Soy extranjera en Colombia y quiero adoptar, ¿adónde acudo?',\n",
    "              '¿Cómo puedo adoptar un niño extranjero?']\n",
    "\n",
    "eval_dataset['validation_question'] = rephrasing\n",
    "eval_dataset = eval_dataset.reset_index(drop=True).to_dict('records')\n",
    "eval_dataset"
   ]
  },
  {
   "cell_type": "code",
   "execution_count": 0,
   "metadata": {
    "application/vnd.databricks.v1+cell": {
     "cellMetadata": {
      "byteLimit": 2048000,
      "rowLimit": 10000
     },
     "inputWidgets": {},
     "nuid": "f0d95089-6488-4c65-bc53-f103411c0d66",
     "showTitle": true,
     "title": "Score eval dataset with the logged model"
    }
   },
   "outputs": [
    {
     "output_type": "stream",
     "name": "stderr",
     "output_type": "stream",
     "text": [
      "2023/08/11 02:37:53 WARNING mlflow.openai.retry: Retrying openai.api_resources.embedding.Embedding.create in 4.0 seconds as it raised APIConnectionError: Error communicating with OpenAI: ('Connection aborted.', ConnectionResetError(104, 'Connection reset by peer')).\n"
     ]
    },
    {
     "output_type": "stream",
     "name": "stdout",
     "output_type": "stream",
     "text": [
      "Out[65]: {'answer': 'No, según el contexto, el cónsul no cuenta con la facultad de obligar a ninguna persona a comparecer en un proceso. Su actuación debe ser moderada y prudente, evitando cualquier inconveniente que pueda afectar las relaciones internacionales entre los estados.',\n 'source': 'https://www.icbf.gov.co/el-consul-puede-obligar-comparecer-al-requerido-en-un-proceso',\n 'output_metadata': {'token_usage': {'prompt_tokens': 265,\n   'completion_tokens': 60,\n   'total_tokens': 325},\n  'model_name': 'gpt-3.5-turbo'}}"
     ]
    }
   ],
   "source": [
    "queries = pd.DataFrame({'question': rephrasing})\n",
    "model = mlflow.pyfunc.load_model(config['model_uri'])\n",
    "predictions = model.predict(queries)\n",
    "predictions[0]"
   ]
  },
  {
   "cell_type": "markdown",
   "metadata": {
    "application/vnd.databricks.v1+cell": {
     "cellMetadata": {},
     "inputWidgets": {},
     "nuid": "82a0018c-1ed4-460c-ae3f-0e03ceac79cb",
     "showTitle": false,
     "title": ""
    }
   },
   "source": [
    "langchain's `QAEvalChain` acts as a grader: compares whether the scored answers are sufficiently similar to the ground truth and returns CORRECT or INCORRECT for each question."
   ]
  },
  {
   "cell_type": "code",
   "execution_count": 0,
   "metadata": {
    "application/vnd.databricks.v1+cell": {
     "cellMetadata": {
      "byteLimit": 2048000,
      "rowLimit": 10000
     },
     "inputWidgets": {},
     "nuid": "e561da83-c555-4690-9899-fd6e41b23422",
     "showTitle": false,
     "title": ""
    }
   },
   "outputs": [
    {
     "output_type": "stream",
     "name": "stdout",
     "output_type": "stream",
     "text": [
      "Out[71]: [{'results': ' CORRECT'},\n {'results': ' CORRECT'},\n {'results': ' CORRECT'},\n {'results': ' CORRECT'},\n {'results': ' CORRECT'},\n {'results': ' INCORRECT'},\n {'results': ' CORRECT'},\n {'results': ' CORRECT'},\n {'results': ' CORRECT'},\n {'results': ' CORRECT'},\n {'results': ' CORRECT'},\n {'results': ' CORRECT'},\n {'results': ' CORRECT'},\n {'results': ' CORRECT'},\n {'results': ' CORRECT'},\n {'results': ' CORRECT'},\n {'results': ' CORRECT'},\n {'results': ' CORRECT'}]"
     ]
    }
   ],
   "source": [
    "llm = OpenAI(temperature=0)\n",
    "eval_chain = QAEvalChain.from_llm(llm)\n",
    "graded_outputs = eval_chain.evaluate(eval_dataset, predictions, question_key=\"validation_question\", prediction_key=\"answer\")\n",
    "graded_outputs"
   ]
  },
  {
   "cell_type": "markdown",
   "metadata": {
    "application/vnd.databricks.v1+cell": {
     "cellMetadata": {},
     "inputWidgets": {},
     "nuid": "948932bd-4505-4e57-8487-4ddfd6f64ec8",
     "showTitle": false,
     "title": ""
    }
   },
   "source": [
    "We can compile the graded results, the scored answers and the eval dataset back into one DataFrame. Note that the bot can sometimes produce correct answers based on different reference sources."
   ]
  },
  {
   "cell_type": "code",
   "execution_count": 0,
   "metadata": {
    "application/vnd.databricks.v1+cell": {
     "cellMetadata": {
      "byteLimit": 2048000,
      "rowLimit": 10000
     },
     "inputWidgets": {},
     "nuid": "50569fa2-8dfc-445d-9063-e40914bb3de9",
     "showTitle": false,
     "title": ""
    }
   },
   "outputs": [
    {
     "output_type": "stream",
     "name": "stderr",
     "output_type": "stream",
     "text": [
      "/databricks/spark/python/pyspark/sql/pandas/conversion.py:656: FutureWarning: iteritems is deprecated and will be removed in a future version. Use .items instead.\n  [(c, t) for (_, c), t in zip(pdf_slice.iteritems(), arrow_types)]\n"
     ]
    },
    {
     "output_type": "display_data",
     "data": {
      "text/html": [
       "<style scoped>\n",
       "  .table-result-container {\n",
       "    max-height: 300px;\n",
       "    overflow: auto;\n",
       "  }\n",
       "  table, th, td {\n",
       "    border: 1px solid black;\n",
       "    border-collapse: collapse;\n",
       "  }\n",
       "  th, td {\n",
       "    padding: 5px;\n",
       "  }\n",
       "  th {\n",
       "    text-align: left;\n",
       "  }\n",
       "</style><div class='table-result-container'><table class='table-result'><thead style='background-color: white'><tr><th>question</th><th>prediction</th><th>source</th><th>correct_source</th><th>answer</th><th>find_correct_source</th><th>same_as_answer</th></tr></thead><tbody><tr><td>¿El cónsul puede obligar a comparecer al requerido en un proceso?</td><td>No, según el contexto, el cónsul no cuenta con la facultad de obligar a ninguna persona a comparecer en un proceso. Su actuación debe ser moderada y prudente, evitando cualquier inconveniente que pueda afectar las relaciones internacionales entre los estados.</td><td>https://www.icbf.gov.co/el-consul-puede-obligar-comparecer-al-requerido-en-un-proceso</td><td>https://www.icbf.gov.co/el-consul-puede-obligar-comparecer-al-requerido-en-un-proceso</td><td>No, el cónsul no cuenta con la facultad de obligar a ninguna persona para la ejecución de diligencias para las cuales ha sido comisionado. Su actuación deberá enmarcarse dentro de la más absoluta moderación y prudencia, evitando así cualquier inconveniente que pueda afectar las relaciones internacionales entre los estados. </td><td>true</td><td>true</td></tr><tr><td>¿Cómo logra el ICBF que sus programas sean inclusivos frente a la atención de niños, niñas y adolescentes con discapacidad y sus familias?</td><td>Sí, el ICBF es incluyente con las personas con discapacidad, ya que en el texto se menciona que el enfoque diferencial del ICBF se aplica a niños, niñas y adolescentes con discapacidad y derechos vulnerados.</td><td>https://www.icbf.gov.co/quienes-aplica-el-icbf-el-enfoque-diferencial-1</td><td>https://www.icbf.gov.co/como-logra-el-icbf-que-sus-programas-sean-inclusivos-frente-la-atencion-de-ninos-ninas-y</td><td>A través de la creación de un modelo de enfoque diferencial de derechos que promueve en sus programas la inclusión de niños, niñas, adolescentes con discapacidad y sus familias, con lo cual se garantiza la participación activa de esta población.</td><td>false</td><td>true</td></tr><tr><td>¿Cuáles son los objetivos del enfoque diferencial?</td><td>El enfoque diferencial es una estrategia que busca promover la igualdad social en la sociedad colombiana, reconociendo, comprendiendo y valorando las diferencias culturales y sociales de los ciudadanos. Sus objetivos incluyen favorecer el bienestar y desarrollo de comunidades culturalmente diversas, proteger los derechos de grupos considerados minorías, reducir la discriminación y diseñar políticas que brinden igualdad de oportunidades a grupos históricamente marginados.</td><td>https://www.icbf.gov.co/cuales-son-los-objetivos-del-enfoque-diferencial-1</td><td>https://www.icbf.gov.co/cuales-son-los-objetivos-del-enfoque-diferencial</td><td>El objetivo principal del enfoque diferencial es que la sociedad colombiana avance hacia la igualdad social, a partir de reconocer, comprender y valorar las creencias, prácticas, saberes, expectativas y formas propias de relacionamiento de los ciudadanos. Sus otros objetivos son: Favorecer y hacer posible el bienestar y desarrollo de los pueblos, comunidades y colectivos culturalmente diversos. Proteger los derechos de los grupos e individuos considerados como minoría. Contribuir a la reducción de cualquier forma de discriminación o segregación social, cultural, espiritual, económica y espacial. Diseñar e implementar políticas, programas o servicios que ofrezcan igualdad de oportunidades de desarrollo a grupos tradicionalmente segregados, excluidos o marginados social y culturalmente.</td><td>false</td><td>true</td></tr><tr><td>¿Qué es la homofobia?</td><td>La homofobia se define como el rechazo constante de personas heterosexuales hacia personas que son homosexuales o bisexuales. Puede manifestarse de diferentes maneras, como la invisibilización de las personas LGTBI o los crímenes de odio hacia ellos. La homofobia se basa en la creencia errónea de que una persona heterosexual es supuestamente superior a las personas homosexuales o bisexuales.</td><td>https://www.icbf.gov.co/que-es-la-homofobia</td><td>https://www.icbf.gov.co/que-es-la-homofobia</td><td>La homofobia es el rechazo constante de personas heterosexuales a personas que son homosexuales o bisexuales. Puede manifestarse de varias formas, como, por ejemplo, la invisibilización de las personas LGTBI o los crímenes de odio hacia ellos. La homofobia se basa en el pensamiento errado de que una persona heterosexual es supuestamente superior a las personas homosexuales o bisexuales.</td><td>true</td><td>true</td></tr><tr><td>¿Cuáles son las acciones que se realizan para brindar una atención con enfoque diferencial?</td><td>Según el contexto, el enfoque diferencial se logra reconociendo, comprendiendo y valorando las creencias, prácticas, saberes, expectativas y formas propias de relacionamiento de los ciudadanos. También se logra favoreciendo y haciendo posible el bienestar y desarrollo de los pueblos, comunidades y colectivos culturalmente diversos, protegiendo los derechos de los grupos e individuos considerados como minoría, contribuyendo a la reducción de cualquier forma de discriminación o segregación social, cultural, espiritual, económica y espacial, y diseñando e implementando políticas, programas o servicios que ofrezcan igualdad de oportunidades de desarrollo a grupos tradicionalmente segregados, excluidos o marginados social y culturalmente.</td><td>https://www.icbf.gov.co/cuales-son-los-objetivos-del-enfoque-diferencial-1</td><td>https://www.icbf.gov.co/cuales-son-las-acciones-que-se-realizan-para-brindar-una-atencion-con-enfoque-diferencial-0</td><td>1. Conocer y entender las características, condiciones de vida, necesidades y expectativas del grupo de población que va a ser atendido. 2. Diseñar o adecuar un proyecto o servicio social que incluya las condiciones particulares del grupo que va a ser atendido. 3. Socializar los programas o servicios con el grupo que va a ser atendido, y llegar a acuerdos sobre las adecuaciones que se requieran. 4. Contratar a quién vaya a ser el operador del programa o servicio. 5. Brindar asistencia técnica y hacer seguimiento al funcionamiento del programa o servicio a través de los profesionales del ICBF que se encuentren en el centro zonal más cercano. 6. Evaluar periódicamente con el grupo que va a ser atendido el proceso y los resultados alcanzados.</td><td>false</td><td>true</td></tr><tr><td>¿A quién le corresponde el pago de la prueba de ADN dentro de un proceso de Investigación de la Paternidad?</td><td>La respuesta a la pregunta \"¿Quién paga las pruebas de ADN?\" no se encuentra en el contexto proporcionado.</td><td>https://www.icbf.gov.co/cuanto-cuesta-la-prueba-de-adn</td><td>https://www.icbf.gov.co/quien-le-corresponde-el-pago-de-la-prueba-de-adn-dentro-de-un-proceso-de-investigacion-de-la</td><td>El costo será asumido por quien solicita la prueba; no obstante, en los casos en que se ha concedido el Amparo de Pobreza dicho costo será asumido por el Estado. En los demás casos, el Juez deberá disponer en la sentencia la obligación de pago para quien haya sido vencido dentro del proceso.</td><td>false</td><td>false</td></tr><tr><td>Quiénes pueden ser contratados por el ICBF para prestar servicios dirigidos a los grupos étnicos?</td><td>El ICBF contrata a personas indígenas o afro para atender a niños, niñas, adolescentes y familias pertenecientes a grupos étnicos reconocidos por el Estado colombiano, como los pueblos indígenas, comunidades afro, comunidades negras, comunidad palenquera, comunidad raizal y el pueblo Rrom.</td><td>https://www.icbf.gov.co/quienes-aplica-el-icbf-el-enfoque-diferencial</td><td>https://www.icbf.gov.co/quienes-pueden-ser-contratados-por-el-icbf-para-prestar-servicios-dirigidos-los-grupos-etnicos</td><td>\"\"\"Dado el interés del ICBF por garantizar que el enfoque diferencial se aplique en sus programas y servicios, la entidad prioriza que las organizaciones étnicas sean contratistas de servicios para su comunidad, siempre y cuando cumplan con los requisitos exigidos por la ley. Los programas y servicios pueden ser contratados con: Cabildos y asociaciones de autoridades indígenas (AATIS) reconocidas según los parámetros establecidos por el Ministerio del Interior (Decreto 1088 de 1993). Consejos comunitarios de comunidades negras conformados según los parámetros establecidos por el Ministerio del Interior (Decreto 3770 de 2008). Kumpanya del pueblo Rrom certificadas por el Ministerio del Interior. (Decreto 2957 de 2010) Organizaciones representativas de grupos étnicos legalmente constituidas. Entidades sin ánimo de lucro cuyo objeto social se relacione con el objeto a contratar. La entidad sin ánimo de lucro debe concertar la implementación del programa o servicio con la comunidad que será beneficiada dejando evidencia de dicha concertación en acta suscrita por los participantes. Uniones temporales conformadas por entidades sin ánimo de lucro que cumplan las condiciones mencionadas en el punto anterior. \"</td><td>false</td><td>true</td></tr><tr><td>¿Cuál es el procedimiento para iniciar un proceso de reconocimiento voluntario de paternidad ante el ICBF? </td><td>Para reconocer la paternidad de tu hija, debes seguir los siguientes pasos:\n",
       "\n",
       "1. Si tienes la certeza de ser el padre, debes citar a la madre ante el Defensor de Familia del Centro Zonal más cercano al lugar donde se encuentra la menor de edad.\n",
       "\n",
       "2. En la cita, se llevará a cabo el reconocimiento voluntario de la paternidad. Si la madre no reconoce tu paternidad, puedes solicitar al Defensor de Familia la prueba de ADN para que la ordene.\n",
       "\n",
       "3. Si no se logra el reconocimiento voluntario ni la prueba de ADN, puedes acudir directamente ante la instancia judicial para iniciar el proceso de filiación.\n",
       "\n",
       "4. Si desconoces el lugar donde está registrada la niña, puedes investigar en la Registraduría Nacional del Estado Civil o informarle esta situación al juez, para que le ordene a la madre allegar el registro civil de la niña o la información correspondiente.</td><td>https://www.icbf.gov.co/la-madre-de-mi-hija-no-permite-que-le-coloque-el-apellido-la-nina-pues-indica-que-no-le-interesa</td><td>https://www.icbf.gov.co/cual-es-el-procedimiento-para-iniciar-un-proceso-de-reconocimiento-voluntario-de-paternidad-ante-el</td><td>El Defensor de Familia cita a las personas involucradas, con el fin de promover un reconocimiento voluntario del niño, niña o adolescente. Si el padre acepta el reconocimiento se levanta un acta y el Defensor de Familia la remitirá a la Notaria o Registraduría respectiva, para la inscripción del reconocimiento en el registro civil de nacimiento. En el evento que el presunto padre no acepte el reconocimiento voluntario, el Defensor de Familia iniciará el proceso de Investigación de la Paternidad. No obstante, si en el transcurso de la diligencia de reconocimiento el presunto padre solicita la prueba de ADN, el Defensor de Familia podrá ordenarla. Una vez recibidos los resultados donde se certifica la paternidad, si el padre los acepta, se levantará acta y ordenará la inscripción en el registro civil, pero si el padre no acepta el resultado, el Defensor de Familia en representación de los intereses del menor de edad podrá presentar la demanda de investigación de la paternidad. </td><td>false</td><td>true</td></tr><tr><td>¿Cuáles son las implicaciones legales de realizar un reconocimiento voluntario de paternidad?</td><td>Cuando reconoces la paternidad de tu hijo(a), el Defensor de Familia puede establecer los alimentos, la custodia y las visitas. Además, se levanta un acta y se envía una copia a la Registraduría Nacional del Estado Civil para registrar el reconocimiento.</td><td>https://www.icbf.gov.co/necesito-asesoria-para-demandar-al-padre-o-madre-de-mi-hijoa-porque-no-responde-economicamente-por</td><td>https://www.icbf.gov.co/cuales-son-las-implicaciones-legales-de-realizar-un-reconocimiento-voluntario-de-paternidad</td><td>Se establece la filiación legal entre el padre y el hijo. A partir de este reconocimiento los padres adquieren obligaciones y derechos establecidos en la ley tales como la patria potestad, la obligación alimentaria, el deber de educar al hijo, los derechos sucesorales, el derecho a llevar los apellidos de sus padres y a adquirir la nacionalidad de ellos, entre otros. </td><td>false</td><td>true</td></tr><tr><td>Realizamos conciliación frente a alimentos, custodia y visitas y mi ex pareja quedó con la custodia de mi hijo(a), yo cumplo con la cuota de alimentos y aun así no me lo deja ver ¿Qué puedo hacer?</td><td>Según el contexto, si la persona con la custodia no te permite ver a tu hijo/a, puedes solicitar una revisión de visitas ante la autoridad competente que haya conocido el caso cuando se fijaron las visitas. La niña solo puede ser privada de este derecho en casos graves que pongan en peligro su seguridad, salud física o moral, y esta determinación debe ser tomada por la autoridad competente.</td><td>https://www.icbf.gov.co/tengo-la-custodia-de-mi-hija-y-el-padre-tiene-fijadas-las-visitas-puedo-impedir-que-el-padre-la-vea</td><td>https://www.icbf.gov.co/realizamos-conciliacion-frente-alimentos-custodia-y-visitas-y-mi-ex-pareja-quedo-con-la-custodia-de</td><td>Cuando se incumplan los acuerdos fijados mediante conciliación, resolución o sentencia respecto de las obligaciones de alimentos, custodia y visitas entre los padres de un niño, niña o adolescente, el progenitor que se vea afectado por tal situación puede acudir ante el Centro Zonal del ICBF del lugar donde se encuentre el menor de edad para poner en conocimiento la situación y provocar la revisión de los acuerdos relacionados con custodia y visitas, con el fin de que la autoridad que conozca del caso (Defensor de Familia, Comisario de Familia o Inspector de Policía) pueda iniciar las acciones a que haya lugar, entre ellas la presentación del proceso ejecutivo por la obligación de hacer, que igualmente puede ser presentada por el interesado directamente. </td><td>false</td><td>true</td></tr><tr><td>Si uno de los padres desea realizar Ofrecimiento de Alimentos y su lugar de residencia es diferente al del niño, niña o adolescente y no puede desplazarse hasta allí a iniciar el trámite ¿Cómo se adelanta el Ofrecimiento de Alimentos?</td><td>Dado el contexto proporcionado, la respuesta a la pregunta \"¿Cómo puedo cumplir con la oferta de alimentos si no vivo con mi hije?\" no se puede determinar. El contexto menciona que la obligación de brindar alimentos surge a partir del reconocimiento de la paternidad, pero no proporciona información específica sobre cómo cumplir con esa obligación si no se vive con el hijo.</td><td>https://www.icbf.gov.co/si-el-nino-nina-o-adolescente-es-reconocido-por-su-progenitor-despues-de-varios-anos-puedo-0</td><td>https://www.icbf.gov.co/si-uno-de-los-padres-desea-realizar-ofrecimiento-de-alimentos-y-su-lugar-de-residencia-es-diferente</td><td>Los trámites previstos en la Ley de Infancia y Adolescencia en favor de un niño, niña o adolescente, como es el de fijación de la cuota de alimentos, deben adelantarse ante la autoridad del lugar donde se encuentre el menor de edad. De no encontrarse en el sitio quien desea ofrecer alimentos y serle imposible acudir allí, puede asistir al Centro Zonal del ICBF que le quede más cercano, con el objetivo de realizar un Ofrecimiento de Alimentos y que mediante la figura de la comisión entre Defensorías de Familia, por el principio de colaboración, se posibilite enterar al destinatario del ofrecimiento de alimentos de la oferta que se realiza.En todo caso, el interesado podrá otorgar poder especial para que sea representado ante la Autoridad Administrativa o judicial competente para adelantar dicho trámite. </td><td>false</td><td>true</td></tr><tr><td>¿Cómo se garantiza la confidencialidad de la información reportada por el ciudadano?</td><td>No, los datos personales que recolecta el ICBF no son públicos. Según la ley estatutaria 1581 de 2012, el ICBF debe cumplir con la política de tratamiento de datos personales, lo cual implica guardar total confidencialidad y reserva frente a la información que se conozca dentro de una denuncia de presuntos actos de corrupción.</td><td>https://www.icbf.gov.co/se-maneja-la-politica-de-tratamiento-de-datos-personales-en-relacion-con-la-confidencialidad-de-los</td><td>https://www.icbf.gov.co/como-se-garantiza-la-confidencialidad-de-la-informacion-reportada-por-el-ciudadano</td><td>Como mecanismo de protección al informante de presuntos actos de corrupción, el ICBF da cumplimiento de la Ley 1755 de 2015 (Mediante la cual se regula el derecho fundamental de petición); a través de la Resolución No. 3962 de 2016, por la cual establece el proceso de recepción de peticiones, quejas, reclamos, sugerencias y denuncias. En este sentido se desarrolló el trámite a seguir en caso de tratarse de una petición o denuncia anónima, en la cual no se requiere el suministro de datos personales del informante y la obligatoriedad de mantener la reserva de la identidad del denunciante en caso de que brinde sus datos. Por otra parte, se garantiza la confidencialidad de la información en aplicación de la ley estatutaria 1581 de 2012.</td><td>false</td><td>true</td></tr><tr><td>¿Cuándo se puede presentar el peculado por cohecho propio?</td><td>No, según el artículo 406 del Código Penal, un servidor público no debe recibir dinero u otra utilidad para adelantar trámites, ya que esto sería considerado como un acto de corrupción.</td><td>https://www.icbf.gov.co/cuando-se-puede-presentar-el-cohecho-impropio</td><td>https://www.icbf.gov.co/cuando-se-puede-presentar-el-peculado-por-cohecho-propio</td><td>Según el artículo 405 del Código Penal, modificado por el artículo 33 de la Ley 1474 de 2011, cuando el servidor público reciba para sí o para otro, dinero u otra utilidad, o acepte promesa remuneratoria, directa o indirectamente, para retardar u omitir un acto propio de su cargo, o para ejecutar uno contrario a sus deberes oficiales.</td><td>false</td><td>true</td></tr><tr><td>¿El presunto padre se puede negar a la práctica de la prueba de ADN en un proceso de Investigación de la Paternidad?</td><td>No, no puedes negarte a hacerte la prueba de ADN. Según el contexto, la negación reiterativa del demandado a la práctica de la prueba se tomará como indicio en su contra. El Juez de Familia tiene el deber legal de decretar la prueba biológica de ADN y hacer uso de los mecanismos que le ofrece la Ley para obtenerla. Sin embargo, el juez no tiene la facultad de ordenar tomar por la fuerza muestras sanguíneas, piezas dentales, capilares o muestras de líquidos o tejidos en contra de la voluntad de un ciudadano.</td><td>https://www.icbf.gov.co/el-presunto-padre-se-puede-negar-la-practica-de-la-prueba-de-adn-en-un-proceso-de-investigacion-de</td><td>https://www.icbf.gov.co/el-presunto-padre-se-puede-negar-la-practica-de-la-prueba-de-adn-en-un-proceso-de-investigacion-de</td><td>\"\"\"Si, sin embargo, la negación reiterativa del demandado a la práctica de la prueba se tomará como indicio en su contra. El Juez de Familia tiene el deber legal de decretar la prueba biológica de ADN y el de hacer uso de los mecanismos que le ofrece la Ley para obtenerla; sin embargo, no tiene la facultad de ordenar tomar por la fuerza a un ciudadano para extraerle muestras sanguíneas, piezas dentales, capilares o muestras de sus líquidos o tejidos en contra de su voluntad.\"\"\"</td><td>true</td><td>true</td></tr><tr><td>¿Realicé una prueba biológica de ADN en un laboratorio acreditado, la puedo presentar en el proceso de investigación de paternidad?</td><td>No, según el contexto, no puedes presentar una prueba de ADN que te hayas tomado tú mismo. La prueba de ADN durante la etapa de gestación es un procedimiento de alto riesgo que se realiza bajo requerimientos precisos y con autorización médica.</td><td>https://www.icbf.gov.co/se-puede-realizar-la-prueba-de-adn-al-nino-que-esta-por-nacer</td><td>https://www.icbf.gov.co/realice-una-prueba-biologica-de-adn-en-un-laboratorio-acreditado-la-puedo-presentar-en-el-proceso-de</td><td>Sí, es posible presentarla; sin embargo, el Juez tiene la facultad de decretar una nueva prueba dentro del proceso de investigación de paternidad.</td><td>false</td><td>true</td></tr><tr><td>¿En Colombia es permitido adoptar personas mayores de edad?</td><td>Según el contexto, para adoptar a un adulto en Colombia, es necesario cumplir con los siguientes requisitos: otorgar el consentimiento entre el adoptante y el adoptado, haber tenido el cuidado personal y convivido bajo el mismo techo con el adoptado durante al menos dos años antes de que cumpla los 18 años de edad. El proceso se realiza directamente en un Juzgado de Familia a través de un abogado.</td><td>https://www.icbf.gov.co/en-colombia-es-permitido-adoptar-personas-mayores-de-edad</td><td>https://www.icbf.gov.co/en-colombia-es-permitido-adoptar-personas-mayores-de-edad</td><td>Si, la Ley 1098 de 2006 permite la adopción de personas mayores de edad, siendo suficiente para ello otorgar el consentimiento entre adoptante y adoptado, teniendo como único requisito, que el adoptante hubiere tenido el cuidado personal y convivido bajo el mismo techo con el adoptado, por lo menos dos años antes de que éste cumpliera los dieciocho (18) años de edad. El proceso se hace directamente en un Juzgado de Familia, a través de un abogado. </td><td>true</td><td>true</td></tr><tr><td>¿Dónde debo iniciar un proceso de adopción si soy extranjero y resido en Colombia?  </td><td>De acuerdo con el contexto, si eres extranjera en Colombia y quieres adoptar, debes dirigirte al Centro Zonal de Bienestar Familiar correspondiente a tu ubicación. Allí te explicarán el proceso de adopción, requisitos, términos, etc.</td><td>https://www.icbf.gov.co/donde-debo-iniciar-un-proceso-de-adopcion-si-soy-colombiano-y-quiero-adoptar-un-nino-extranjero</td><td>https://www.icbf.gov.co/donde-debo-iniciar-un-proceso-de-adopcion-si-soy-extranjero-y-resido-en-colombia</td><td>Debe dirigirse al Centro Zonal de Bienestar Familiar que le corresponda de acuerdo con el lugar donde se encuentre domiciliado, allí le explicarán el proceso de adopción, requisitos, términos, entre otros.  </td><td>false</td><td>true</td></tr><tr><td>¿Dónde debo iniciar un proceso de adopción si soy colombiano y quiero adoptar un niño extranjero?  </td><td>Para adoptar un niño extranjero, debes identificar si el país en el que vives forma parte del Convenio de La Haya para la Adopción Internacional. Puedes verificar esto en el sitio web www.hcch.net. Si el país forma parte del Convenio, debes dirigirte a la Autoridad Central o al Organismo Acreditado en ese país, quienes te indicarán el procedimiento que debes seguir.</td><td>https://www.icbf.gov.co/donde-debo-iniciar-un-proceso-de-adopcion-si-soy-colombiano-y-resido-en-el-extranjero</td><td>https://www.icbf.gov.co/donde-debo-iniciar-un-proceso-de-adopcion-si-soy-colombiano-y-quiero-adoptar-un-nino-extranjero</td><td>Debe dirigirse al Centro Zonal de Bienestar Familiar que le corresponda de acuerdo con el lugar donde se encuentre, allí le explicarán el proceso de adopción, requisitos, términos, etc. Debe tenerse en cuenta que en materia de adopción internacional, Colombia tiene el perfil de país de origen (www.hcch.net). </td><td>false</td><td>true</td></tr></tbody></table></div>"
      ]
     },
     "metadata": {
      "application/vnd.databricks.v1+output": {
       "addedWidgets": {},
       "aggData": [],
       "aggError": "",
       "aggOverflow": false,
       "aggSchema": [],
       "aggSeriesLimitReached": false,
       "aggType": "",
       "arguments": {},
       "columnCustomDisplayInfos": {},
       "data": [
        [
         "¿El cónsul puede obligar a comparecer al requerido en un proceso?",
         "No, según el contexto, el cónsul no cuenta con la facultad de obligar a ninguna persona a comparecer en un proceso. Su actuación debe ser moderada y prudente, evitando cualquier inconveniente que pueda afectar las relaciones internacionales entre los estados.",
         "https://www.icbf.gov.co/el-consul-puede-obligar-comparecer-al-requerido-en-un-proceso",
         "https://www.icbf.gov.co/el-consul-puede-obligar-comparecer-al-requerido-en-un-proceso",
         "No, el cónsul no cuenta con la facultad de obligar a ninguna persona para la ejecución de diligencias para las cuales ha sido comisionado. Su actuación deberá enmarcarse dentro de la más absoluta moderación y prudencia, evitando así cualquier inconveniente que pueda afectar las relaciones internacionales entre los estados. ",
         true,
         true
        ],
        [
         "¿Cómo logra el ICBF que sus programas sean inclusivos frente a la atención de niños, niñas y adolescentes con discapacidad y sus familias?",
         "Sí, el ICBF es incluyente con las personas con discapacidad, ya que en el texto se menciona que el enfoque diferencial del ICBF se aplica a niños, niñas y adolescentes con discapacidad y derechos vulnerados.",
         "https://www.icbf.gov.co/quienes-aplica-el-icbf-el-enfoque-diferencial-1",
         "https://www.icbf.gov.co/como-logra-el-icbf-que-sus-programas-sean-inclusivos-frente-la-atencion-de-ninos-ninas-y",
         "A través de la creación de un modelo de enfoque diferencial de derechos que promueve en sus programas la inclusión de niños, niñas, adolescentes con discapacidad y sus familias, con lo cual se garantiza la participación activa de esta población.",
         false,
         true
        ],
        [
         "¿Cuáles son los objetivos del enfoque diferencial?",
         "El enfoque diferencial es una estrategia que busca promover la igualdad social en la sociedad colombiana, reconociendo, comprendiendo y valorando las diferencias culturales y sociales de los ciudadanos. Sus objetivos incluyen favorecer el bienestar y desarrollo de comunidades culturalmente diversas, proteger los derechos de grupos considerados minorías, reducir la discriminación y diseñar políticas que brinden igualdad de oportunidades a grupos históricamente marginados.",
         "https://www.icbf.gov.co/cuales-son-los-objetivos-del-enfoque-diferencial-1",
         "https://www.icbf.gov.co/cuales-son-los-objetivos-del-enfoque-diferencial",
         "El objetivo principal del enfoque diferencial es que la sociedad colombiana avance hacia la igualdad social, a partir de reconocer, comprender y valorar las creencias, prácticas, saberes, expectativas y formas propias de relacionamiento de los ciudadanos. Sus otros objetivos son: Favorecer y hacer posible el bienestar y desarrollo de los pueblos, comunidades y colectivos culturalmente diversos. Proteger los derechos de los grupos e individuos considerados como minoría. Contribuir a la reducción de cualquier forma de discriminación o segregación social, cultural, espiritual, económica y espacial. Diseñar e implementar políticas, programas o servicios que ofrezcan igualdad de oportunidades de desarrollo a grupos tradicionalmente segregados, excluidos o marginados social y culturalmente.",
         false,
         true
        ],
        [
         "¿Qué es la homofobia?",
         "La homofobia se define como el rechazo constante de personas heterosexuales hacia personas que son homosexuales o bisexuales. Puede manifestarse de diferentes maneras, como la invisibilización de las personas LGTBI o los crímenes de odio hacia ellos. La homofobia se basa en la creencia errónea de que una persona heterosexual es supuestamente superior a las personas homosexuales o bisexuales.",
         "https://www.icbf.gov.co/que-es-la-homofobia",
         "https://www.icbf.gov.co/que-es-la-homofobia",
         "La homofobia es el rechazo constante de personas heterosexuales a personas que son homosexuales o bisexuales. Puede manifestarse de varias formas, como, por ejemplo, la invisibilización de las personas LGTBI o los crímenes de odio hacia ellos. La homofobia se basa en el pensamiento errado de que una persona heterosexual es supuestamente superior a las personas homosexuales o bisexuales.",
         true,
         true
        ],
        [
         "¿Cuáles son las acciones que se realizan para brindar una atención con enfoque diferencial?",
         "Según el contexto, el enfoque diferencial se logra reconociendo, comprendiendo y valorando las creencias, prácticas, saberes, expectativas y formas propias de relacionamiento de los ciudadanos. También se logra favoreciendo y haciendo posible el bienestar y desarrollo de los pueblos, comunidades y colectivos culturalmente diversos, protegiendo los derechos de los grupos e individuos considerados como minoría, contribuyendo a la reducción de cualquier forma de discriminación o segregación social, cultural, espiritual, económica y espacial, y diseñando e implementando políticas, programas o servicios que ofrezcan igualdad de oportunidades de desarrollo a grupos tradicionalmente segregados, excluidos o marginados social y culturalmente.",
         "https://www.icbf.gov.co/cuales-son-los-objetivos-del-enfoque-diferencial-1",
         "https://www.icbf.gov.co/cuales-son-las-acciones-que-se-realizan-para-brindar-una-atencion-con-enfoque-diferencial-0",
         "1. Conocer y entender las características, condiciones de vida, necesidades y expectativas del grupo de población que va a ser atendido. 2. Diseñar o adecuar un proyecto o servicio social que incluya las condiciones particulares del grupo que va a ser atendido. 3. Socializar los programas o servicios con el grupo que va a ser atendido, y llegar a acuerdos sobre las adecuaciones que se requieran. 4. Contratar a quién vaya a ser el operador del programa o servicio. 5. Brindar asistencia técnica y hacer seguimiento al funcionamiento del programa o servicio a través de los profesionales del ICBF que se encuentren en el centro zonal más cercano. 6. Evaluar periódicamente con el grupo que va a ser atendido el proceso y los resultados alcanzados.",
         false,
         true
        ],
        [
         "¿A quién le corresponde el pago de la prueba de ADN dentro de un proceso de Investigación de la Paternidad?",
         "La respuesta a la pregunta \"¿Quién paga las pruebas de ADN?\" no se encuentra en el contexto proporcionado.",
         "https://www.icbf.gov.co/cuanto-cuesta-la-prueba-de-adn",
         "https://www.icbf.gov.co/quien-le-corresponde-el-pago-de-la-prueba-de-adn-dentro-de-un-proceso-de-investigacion-de-la",
         "El costo será asumido por quien solicita la prueba; no obstante, en los casos en que se ha concedido el Amparo de Pobreza dicho costo será asumido por el Estado. En los demás casos, el Juez deberá disponer en la sentencia la obligación de pago para quien haya sido vencido dentro del proceso.",
         false,
         false
        ],
        [
         "Quiénes pueden ser contratados por el ICBF para prestar servicios dirigidos a los grupos étnicos?",
         "El ICBF contrata a personas indígenas o afro para atender a niños, niñas, adolescentes y familias pertenecientes a grupos étnicos reconocidos por el Estado colombiano, como los pueblos indígenas, comunidades afro, comunidades negras, comunidad palenquera, comunidad raizal y el pueblo Rrom.",
         "https://www.icbf.gov.co/quienes-aplica-el-icbf-el-enfoque-diferencial",
         "https://www.icbf.gov.co/quienes-pueden-ser-contratados-por-el-icbf-para-prestar-servicios-dirigidos-los-grupos-etnicos",
         "\"\"\"Dado el interés del ICBF por garantizar que el enfoque diferencial se aplique en sus programas y servicios, la entidad prioriza que las organizaciones étnicas sean contratistas de servicios para su comunidad, siempre y cuando cumplan con los requisitos exigidos por la ley. Los programas y servicios pueden ser contratados con: Cabildos y asociaciones de autoridades indígenas (AATIS) reconocidas según los parámetros establecidos por el Ministerio del Interior (Decreto 1088 de 1993). Consejos comunitarios de comunidades negras conformados según los parámetros establecidos por el Ministerio del Interior (Decreto 3770 de 2008). Kumpanya del pueblo Rrom certificadas por el Ministerio del Interior. (Decreto 2957 de 2010) Organizaciones representativas de grupos étnicos legalmente constituidas. Entidades sin ánimo de lucro cuyo objeto social se relacione con el objeto a contratar. La entidad sin ánimo de lucro debe concertar la implementación del programa o servicio con la comunidad que será beneficiada dejando evidencia de dicha concertación en acta suscrita por los participantes. Uniones temporales conformadas por entidades sin ánimo de lucro que cumplan las condiciones mencionadas en el punto anterior. \"",
         false,
         true
        ],
        [
         "¿Cuál es el procedimiento para iniciar un proceso de reconocimiento voluntario de paternidad ante el ICBF? ",
         "Para reconocer la paternidad de tu hija, debes seguir los siguientes pasos:\n\n1. Si tienes la certeza de ser el padre, debes citar a la madre ante el Defensor de Familia del Centro Zonal más cercano al lugar donde se encuentra la menor de edad.\n\n2. En la cita, se llevará a cabo el reconocimiento voluntario de la paternidad. Si la madre no reconoce tu paternidad, puedes solicitar al Defensor de Familia la prueba de ADN para que la ordene.\n\n3. Si no se logra el reconocimiento voluntario ni la prueba de ADN, puedes acudir directamente ante la instancia judicial para iniciar el proceso de filiación.\n\n4. Si desconoces el lugar donde está registrada la niña, puedes investigar en la Registraduría Nacional del Estado Civil o informarle esta situación al juez, para que le ordene a la madre allegar el registro civil de la niña o la información correspondiente.",
         "https://www.icbf.gov.co/la-madre-de-mi-hija-no-permite-que-le-coloque-el-apellido-la-nina-pues-indica-que-no-le-interesa",
         "https://www.icbf.gov.co/cual-es-el-procedimiento-para-iniciar-un-proceso-de-reconocimiento-voluntario-de-paternidad-ante-el",
         "El Defensor de Familia cita a las personas involucradas, con el fin de promover un reconocimiento voluntario del niño, niña o adolescente. Si el padre acepta el reconocimiento se levanta un acta y el Defensor de Familia la remitirá a la Notaria o Registraduría respectiva, para la inscripción del reconocimiento en el registro civil de nacimiento. En el evento que el presunto padre no acepte el reconocimiento voluntario, el Defensor de Familia iniciará el proceso de Investigación de la Paternidad. No obstante, si en el transcurso de la diligencia de reconocimiento el presunto padre solicita la prueba de ADN, el Defensor de Familia podrá ordenarla. Una vez recibidos los resultados donde se certifica la paternidad, si el padre los acepta, se levantará acta y ordenará la inscripción en el registro civil, pero si el padre no acepta el resultado, el Defensor de Familia en representación de los intereses del menor de edad podrá presentar la demanda de investigación de la paternidad. ",
         false,
         true
        ],
        [
         "¿Cuáles son las implicaciones legales de realizar un reconocimiento voluntario de paternidad?",
         "Cuando reconoces la paternidad de tu hijo(a), el Defensor de Familia puede establecer los alimentos, la custodia y las visitas. Además, se levanta un acta y se envía una copia a la Registraduría Nacional del Estado Civil para registrar el reconocimiento.",
         "https://www.icbf.gov.co/necesito-asesoria-para-demandar-al-padre-o-madre-de-mi-hijoa-porque-no-responde-economicamente-por",
         "https://www.icbf.gov.co/cuales-son-las-implicaciones-legales-de-realizar-un-reconocimiento-voluntario-de-paternidad",
         "Se establece la filiación legal entre el padre y el hijo. A partir de este reconocimiento los padres adquieren obligaciones y derechos establecidos en la ley tales como la patria potestad, la obligación alimentaria, el deber de educar al hijo, los derechos sucesorales, el derecho a llevar los apellidos de sus padres y a adquirir la nacionalidad de ellos, entre otros. ",
         false,
         true
        ],
        [
         "Realizamos conciliación frente a alimentos, custodia y visitas y mi ex pareja quedó con la custodia de mi hijo(a), yo cumplo con la cuota de alimentos y aun así no me lo deja ver ¿Qué puedo hacer?",
         "Según el contexto, si la persona con la custodia no te permite ver a tu hijo/a, puedes solicitar una revisión de visitas ante la autoridad competente que haya conocido el caso cuando se fijaron las visitas. La niña solo puede ser privada de este derecho en casos graves que pongan en peligro su seguridad, salud física o moral, y esta determinación debe ser tomada por la autoridad competente.",
         "https://www.icbf.gov.co/tengo-la-custodia-de-mi-hija-y-el-padre-tiene-fijadas-las-visitas-puedo-impedir-que-el-padre-la-vea",
         "https://www.icbf.gov.co/realizamos-conciliacion-frente-alimentos-custodia-y-visitas-y-mi-ex-pareja-quedo-con-la-custodia-de",
         "Cuando se incumplan los acuerdos fijados mediante conciliación, resolución o sentencia respecto de las obligaciones de alimentos, custodia y visitas entre los padres de un niño, niña o adolescente, el progenitor que se vea afectado por tal situación puede acudir ante el Centro Zonal del ICBF del lugar donde se encuentre el menor de edad para poner en conocimiento la situación y provocar la revisión de los acuerdos relacionados con custodia y visitas, con el fin de que la autoridad que conozca del caso (Defensor de Familia, Comisario de Familia o Inspector de Policía) pueda iniciar las acciones a que haya lugar, entre ellas la presentación del proceso ejecutivo por la obligación de hacer, que igualmente puede ser presentada por el interesado directamente. ",
         false,
         true
        ],
        [
         "Si uno de los padres desea realizar Ofrecimiento de Alimentos y su lugar de residencia es diferente al del niño, niña o adolescente y no puede desplazarse hasta allí a iniciar el trámite ¿Cómo se adelanta el Ofrecimiento de Alimentos?",
         "Dado el contexto proporcionado, la respuesta a la pregunta \"¿Cómo puedo cumplir con la oferta de alimentos si no vivo con mi hije?\" no se puede determinar. El contexto menciona que la obligación de brindar alimentos surge a partir del reconocimiento de la paternidad, pero no proporciona información específica sobre cómo cumplir con esa obligación si no se vive con el hijo.",
         "https://www.icbf.gov.co/si-el-nino-nina-o-adolescente-es-reconocido-por-su-progenitor-despues-de-varios-anos-puedo-0",
         "https://www.icbf.gov.co/si-uno-de-los-padres-desea-realizar-ofrecimiento-de-alimentos-y-su-lugar-de-residencia-es-diferente",
         "Los trámites previstos en la Ley de Infancia y Adolescencia en favor de un niño, niña o adolescente, como es el de fijación de la cuota de alimentos, deben adelantarse ante la autoridad del lugar donde se encuentre el menor de edad. De no encontrarse en el sitio quien desea ofrecer alimentos y serle imposible acudir allí, puede asistir al Centro Zonal del ICBF que le quede más cercano, con el objetivo de realizar un Ofrecimiento de Alimentos y que mediante la figura de la comisión entre Defensorías de Familia, por el principio de colaboración, se posibilite enterar al destinatario del ofrecimiento de alimentos de la oferta que se realiza.En todo caso, el interesado podrá otorgar poder especial para que sea representado ante la Autoridad Administrativa o judicial competente para adelantar dicho trámite. ",
         false,
         true
        ],
        [
         "¿Cómo se garantiza la confidencialidad de la información reportada por el ciudadano?",
         "No, los datos personales que recolecta el ICBF no son públicos. Según la ley estatutaria 1581 de 2012, el ICBF debe cumplir con la política de tratamiento de datos personales, lo cual implica guardar total confidencialidad y reserva frente a la información que se conozca dentro de una denuncia de presuntos actos de corrupción.",
         "https://www.icbf.gov.co/se-maneja-la-politica-de-tratamiento-de-datos-personales-en-relacion-con-la-confidencialidad-de-los",
         "https://www.icbf.gov.co/como-se-garantiza-la-confidencialidad-de-la-informacion-reportada-por-el-ciudadano",
         "Como mecanismo de protección al informante de presuntos actos de corrupción, el ICBF da cumplimiento de la Ley 1755 de 2015 (Mediante la cual se regula el derecho fundamental de petición); a través de la Resolución No. 3962 de 2016, por la cual establece el proceso de recepción de peticiones, quejas, reclamos, sugerencias y denuncias. En este sentido se desarrolló el trámite a seguir en caso de tratarse de una petición o denuncia anónima, en la cual no se requiere el suministro de datos personales del informante y la obligatoriedad de mantener la reserva de la identidad del denunciante en caso de que brinde sus datos. Por otra parte, se garantiza la confidencialidad de la información en aplicación de la ley estatutaria 1581 de 2012.",
         false,
         true
        ],
        [
         "¿Cuándo se puede presentar el peculado por cohecho propio?",
         "No, según el artículo 406 del Código Penal, un servidor público no debe recibir dinero u otra utilidad para adelantar trámites, ya que esto sería considerado como un acto de corrupción.",
         "https://www.icbf.gov.co/cuando-se-puede-presentar-el-cohecho-impropio",
         "https://www.icbf.gov.co/cuando-se-puede-presentar-el-peculado-por-cohecho-propio",
         "Según el artículo 405 del Código Penal, modificado por el artículo 33 de la Ley 1474 de 2011, cuando el servidor público reciba para sí o para otro, dinero u otra utilidad, o acepte promesa remuneratoria, directa o indirectamente, para retardar u omitir un acto propio de su cargo, o para ejecutar uno contrario a sus deberes oficiales.",
         false,
         true
        ],
        [
         "¿El presunto padre se puede negar a la práctica de la prueba de ADN en un proceso de Investigación de la Paternidad?",
         "No, no puedes negarte a hacerte la prueba de ADN. Según el contexto, la negación reiterativa del demandado a la práctica de la prueba se tomará como indicio en su contra. El Juez de Familia tiene el deber legal de decretar la prueba biológica de ADN y hacer uso de los mecanismos que le ofrece la Ley para obtenerla. Sin embargo, el juez no tiene la facultad de ordenar tomar por la fuerza muestras sanguíneas, piezas dentales, capilares o muestras de líquidos o tejidos en contra de la voluntad de un ciudadano.",
         "https://www.icbf.gov.co/el-presunto-padre-se-puede-negar-la-practica-de-la-prueba-de-adn-en-un-proceso-de-investigacion-de",
         "https://www.icbf.gov.co/el-presunto-padre-se-puede-negar-la-practica-de-la-prueba-de-adn-en-un-proceso-de-investigacion-de",
         "\"\"\"Si, sin embargo, la negación reiterativa del demandado a la práctica de la prueba se tomará como indicio en su contra. El Juez de Familia tiene el deber legal de decretar la prueba biológica de ADN y el de hacer uso de los mecanismos que le ofrece la Ley para obtenerla; sin embargo, no tiene la facultad de ordenar tomar por la fuerza a un ciudadano para extraerle muestras sanguíneas, piezas dentales, capilares o muestras de sus líquidos o tejidos en contra de su voluntad.\"\"\"",
         true,
         true
        ],
        [
         "¿Realicé una prueba biológica de ADN en un laboratorio acreditado, la puedo presentar en el proceso de investigación de paternidad?",
         "No, según el contexto, no puedes presentar una prueba de ADN que te hayas tomado tú mismo. La prueba de ADN durante la etapa de gestación es un procedimiento de alto riesgo que se realiza bajo requerimientos precisos y con autorización médica.",
         "https://www.icbf.gov.co/se-puede-realizar-la-prueba-de-adn-al-nino-que-esta-por-nacer",
         "https://www.icbf.gov.co/realice-una-prueba-biologica-de-adn-en-un-laboratorio-acreditado-la-puedo-presentar-en-el-proceso-de",
         "Sí, es posible presentarla; sin embargo, el Juez tiene la facultad de decretar una nueva prueba dentro del proceso de investigación de paternidad.",
         false,
         true
        ],
        [
         "¿En Colombia es permitido adoptar personas mayores de edad?",
         "Según el contexto, para adoptar a un adulto en Colombia, es necesario cumplir con los siguientes requisitos: otorgar el consentimiento entre el adoptante y el adoptado, haber tenido el cuidado personal y convivido bajo el mismo techo con el adoptado durante al menos dos años antes de que cumpla los 18 años de edad. El proceso se realiza directamente en un Juzgado de Familia a través de un abogado.",
         "https://www.icbf.gov.co/en-colombia-es-permitido-adoptar-personas-mayores-de-edad",
         "https://www.icbf.gov.co/en-colombia-es-permitido-adoptar-personas-mayores-de-edad",
         "Si, la Ley 1098 de 2006 permite la adopción de personas mayores de edad, siendo suficiente para ello otorgar el consentimiento entre adoptante y adoptado, teniendo como único requisito, que el adoptante hubiere tenido el cuidado personal y convivido bajo el mismo techo con el adoptado, por lo menos dos años antes de que éste cumpliera los dieciocho (18) años de edad. El proceso se hace directamente en un Juzgado de Familia, a través de un abogado. ",
         true,
         true
        ],
        [
         "¿Dónde debo iniciar un proceso de adopción si soy extranjero y resido en Colombia?  ",
         "De acuerdo con el contexto, si eres extranjera en Colombia y quieres adoptar, debes dirigirte al Centro Zonal de Bienestar Familiar correspondiente a tu ubicación. Allí te explicarán el proceso de adopción, requisitos, términos, etc.",
         "https://www.icbf.gov.co/donde-debo-iniciar-un-proceso-de-adopcion-si-soy-colombiano-y-quiero-adoptar-un-nino-extranjero",
         "https://www.icbf.gov.co/donde-debo-iniciar-un-proceso-de-adopcion-si-soy-extranjero-y-resido-en-colombia",
         "Debe dirigirse al Centro Zonal de Bienestar Familiar que le corresponda de acuerdo con el lugar donde se encuentre domiciliado, allí le explicarán el proceso de adopción, requisitos, términos, entre otros.  ",
         false,
         true
        ],
        [
         "¿Dónde debo iniciar un proceso de adopción si soy colombiano y quiero adoptar un niño extranjero?  ",
         "Para adoptar un niño extranjero, debes identificar si el país en el que vives forma parte del Convenio de La Haya para la Adopción Internacional. Puedes verificar esto en el sitio web www.hcch.net. Si el país forma parte del Convenio, debes dirigirte a la Autoridad Central o al Organismo Acreditado en ese país, quienes te indicarán el procedimiento que debes seguir.",
         "https://www.icbf.gov.co/donde-debo-iniciar-un-proceso-de-adopcion-si-soy-colombiano-y-resido-en-el-extranjero",
         "https://www.icbf.gov.co/donde-debo-iniciar-un-proceso-de-adopcion-si-soy-colombiano-y-quiero-adoptar-un-nino-extranjero",
         "Debe dirigirse al Centro Zonal de Bienestar Familiar que le corresponda de acuerdo con el lugar donde se encuentre, allí le explicarán el proceso de adopción, requisitos, términos, etc. Debe tenerse en cuenta que en materia de adopción internacional, Colombia tiene el perfil de país de origen (www.hcch.net). ",
         false,
         true
        ]
       ],
       "datasetInfos": [],
       "dbfsResultPath": null,
       "isJsonSchema": true,
       "metadata": {},
       "overflow": false,
       "plotOptions": {
        "customPlotOptions": {},
        "displayType": "table",
        "pivotAggregation": null,
        "pivotColumns": null,
        "xColumns": null,
        "yColumns": null
       },
       "removedWidgets": [],
       "schema": [
        {
         "metadata": "{}",
         "name": "question",
         "type": "\"string\""
        },
        {
         "metadata": "{}",
         "name": "prediction",
         "type": "\"string\""
        },
        {
         "metadata": "{}",
         "name": "source",
         "type": "\"string\""
        },
        {
         "metadata": "{}",
         "name": "correct_source",
         "type": "\"string\""
        },
        {
         "metadata": "{}",
         "name": "answer",
         "type": "\"string\""
        },
        {
         "metadata": "{}",
         "name": "find_correct_source",
         "type": "\"boolean\""
        },
        {
         "metadata": "{}",
         "name": "same_as_answer",
         "type": "\"boolean\""
        }
       ],
       "type": "table"
      }
     },
     "output_type": "display_data"
    }
   ],
   "source": [
    "results = pd.DataFrame(\n",
    "  [{\n",
    "    \"question\": eval_data[\"question\"], \n",
    "    \"prediction\": predict[\"answer\"], \n",
    "    \"source\": predict[\"source\"], \n",
    "    \"correct_source\": eval_data[\"correct_source\"], \n",
    "    \"answer\": eval_data[\"answer\"], \n",
    "    \"find_correct_source\": predict[\"source\"] == eval_data[\"correct_source\"], \n",
    "    \"same_as_answer\": True if graded_outputs[\"results\"].strip() == 'CORRECT' else False\n",
    "    } \n",
    "    for (predict, eval_data, graded_outputs) in zip(predictions, eval_dataset, graded_outputs)])\n",
    "display(spark.createDataFrame(results))"
   ]
  },
  {
   "cell_type": "code",
   "execution_count": 0,
   "metadata": {
    "application/vnd.databricks.v1+cell": {
     "cellMetadata": {
      "byteLimit": 2048000,
      "rowLimit": 10000
     },
     "inputWidgets": {},
     "nuid": "1643e0f3-ac02-4a41-913e-1bb8de698244",
     "showTitle": true,
     "title": "How often does the model produce correct responses on this eval set according to our grader?"
    }
   },
   "outputs": [
    {
     "output_type": "stream",
     "name": "stdout",
     "output_type": "stream",
     "text": [
      "Out[73]: 0.9444444444444444"
     ]
    }
   ],
   "source": [
    "results['same_as_answer'].sum() / len(results)"
   ]
  },
  {
   "cell_type": "markdown",
   "metadata": {
    "application/vnd.databricks.v1+cell": {
     "cellMetadata": {},
     "inputWidgets": {},
     "nuid": "e67ec14c-5b7b-4f8e-ae27-59233d7bb04a",
     "showTitle": false,
     "title": ""
    }
   },
   "source": [
    "Our QA bot seems to produce sensible responses most of the time according to the LLM grader. However, it is still important for the developer to regularly evaluate the performance by reading the responses. It is often possible for the LLM to miss nuanced differences between concepts and produce false negative gradings, especially when answers are long and complex.  And make sure to review the eval question set periodically so that it reflects the type of questions the users submit."
   ]
  },
  {
   "cell_type": "markdown",
   "metadata": {
    "application/vnd.databricks.v1+cell": {
     "cellMetadata": {},
     "inputWidgets": {},
     "nuid": "45cef46a-cf1c-4135-af26-6c6877a17761",
     "showTitle": false,
     "title": ""
    }
   },
   "source": [
    "© 2023 Databricks, Inc. All rights reserved. The source in this notebook is provided subject to the Databricks License. All included or referenced third party libraries are subject to the licenses set forth below.\n",
    "\n",
    "| library                                | description             | license    | source                                              |\n",
    "|----------------------------------------|-------------------------|------------|-----------------------------------------------------|\n",
    "| langchain | Building applications with LLMs through composability | MIT  |   https://pypi.org/project/langchain/ |\n",
    "| tiktoken | Fast BPE tokeniser for use with OpenAI's models | MIT  |   https://pypi.org/project/tiktoken/ |\n",
    "| faiss-cpu | Library for efficient similarity search and clustering of dense vectors | MIT  |   https://pypi.org/project/faiss-cpu/ |\n",
    "| openai | Building applications with LLMs through composability | MIT  |   https://pypi.org/project/openai/ |"
   ]
  }
 ],
 "metadata": {
  "application/vnd.databricks.v1+notebook": {
   "dashboards": [],
   "language": "python",
   "notebookMetadata": {
    "pythonIndentUnit": 4
   },
   "notebookName": "03_Model_Evaluation",
   "widgets": {}
  }
 },
 "nbformat": 4,
 "nbformat_minor": 0
}
